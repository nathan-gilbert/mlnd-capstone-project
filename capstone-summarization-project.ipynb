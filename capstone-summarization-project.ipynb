{
 "cells": [
  {
   "cell_type": "markdown",
   "source": [
    "# Summerizer Web App\n",
    "## A summer summarization project\n",
    "\n",
    "### Preliminary\n",
    "\n",
    "Run the preprocessor"
   ],
   "metadata": {
    "collapsed": false,
    "pycharm": {
     "name": "#%% md\n"
    }
   }
  },
  {
   "cell_type": "code",
   "execution_count": 1,
   "outputs": [
    {
     "name": "stdout",
     "text": [
      "Processing document /Users/nathan/Documents/Data/summarization/duc2003/0\n\tProcessing sub-document 0\n\tProcessing sub-document 1\n\tProcessing sub-document 2\n\tProcessing sub-document 3\n\tProcessing sub-document 4\n\tProcessing sub-document 5\n\tProcessing sub-document 6\n\tProcessing sub-document 7\n\tProcessing sub-document 8\n\tProcessing sub-document 9\n\tProcessing sub-document 10\n\tProcessing sub-document 11\n\tProcessing sub-document keys\nProcessing document /Users/nathan/Documents/Data/summarization/duc2003/1\n\tProcessing sub-document 0\n\tProcessing sub-document 1\n\tProcessing sub-document 2\n\tProcessing sub-document 3\n\tProcessing sub-document 4\n\tProcessing sub-document 5\n\tProcessing sub-document 6\n",
      "\tProcessing sub-document 7\n\tProcessing sub-document 8\n\tProcessing sub-document 9\n\tProcessing sub-document 10\n\tProcessing sub-document keys\nProcessing document /Users/nathan/Documents/Data/summarization/duc2003/2\n\tProcessing sub-document 0\n\tProcessing sub-document 1\n\tProcessing sub-document 2\n\tProcessing sub-document 3\n\tProcessing sub-document 4\n\tProcessing sub-document 5\n\tProcessing sub-document 6\n",
      "\tProcessing sub-document 7\n\tProcessing sub-document 8\n\tProcessing sub-document 9\n\tProcessing sub-document keys\nProcessing document /Users/nathan/Documents/Data/summarization/duc2003/3\n\tProcessing sub-document 0\n\tProcessing sub-document 1\n\tProcessing sub-document 2\n\tProcessing sub-document 3\n\tProcessing sub-document 4\n\tProcessing sub-document 5\n",
      "\tProcessing sub-document 6\n\tProcessing sub-document 7\n\tProcessing sub-document 8\n\tProcessing sub-document 9\n\tProcessing sub-document keys\nProcessing document /Users/nathan/Documents/Data/summarization/duc2003/4\n\tProcessing sub-document 0\n\tProcessing sub-document 1\n\tProcessing sub-document 2\n\tProcessing sub-document 3\n\tProcessing sub-document 4\n\tProcessing sub-document 5\n",
      "\tProcessing sub-document 6\n\tProcessing sub-document 7\n\tProcessing sub-document 8\n\tProcessing sub-document 9\n\tProcessing sub-document 10\n\tProcessing sub-document keys\nProcessing document /Users/nathan/Documents/Data/summarization/duc2003/5\n\tProcessing sub-document 0\n\tProcessing sub-document 1\n",
      "\tProcessing sub-document 2\n\tProcessing sub-document 3\n\tProcessing sub-document 4\n\tProcessing sub-document 5\n\tProcessing sub-document 6\n\tProcessing sub-document 7\n\tProcessing sub-document 8\n\tProcessing sub-document 9\n\tProcessing sub-document 10\n\tProcessing sub-document 11\n",
      "\tProcessing sub-document 12\n\tProcessing sub-document 13\n\tProcessing sub-document keys\nProcessing document /Users/nathan/Documents/Data/summarization/duc2003/6\n\tProcessing sub-document 0\n\tProcessing sub-document 1\n\tProcessing sub-document 2\n\tProcessing sub-document 3\n\tProcessing sub-document 4\n\tProcessing sub-document 5\n\tProcessing sub-document 6\n\tProcessing sub-document 7\n",
      "\tProcessing sub-document 8\n\tProcessing sub-document 9\n\tProcessing sub-document 10\n\tProcessing sub-document keys\nProcessing document /Users/nathan/Documents/Data/summarization/duc2003/7\n\tProcessing sub-document 0\n\tProcessing sub-document 1\n\tProcessing sub-document 2\n\tProcessing sub-document 3\n\tProcessing sub-document 4\n\tProcessing sub-document 5\n\tProcessing sub-document 6\n",
      "\tProcessing sub-document 7\n\tProcessing sub-document 8\n\tProcessing sub-document 9\n\tProcessing sub-document 10\n\tProcessing sub-document 11\n\tProcessing sub-document 12\n\tProcessing sub-document 13\n\tProcessing sub-document keys\nProcessing document /Users/nathan/Documents/Data/summarization/duc2003/8\n\tProcessing sub-document 0\n",
      "\tProcessing sub-document 1\n\tProcessing sub-document 2\n\tProcessing sub-document 3\n\tProcessing sub-document 4\n\tProcessing sub-document 5\n\tProcessing sub-document 6\n\tProcessing sub-document 7\n\tProcessing sub-document 8\n",
      "\tProcessing sub-document 9\n\tProcessing sub-document 10\n\tProcessing sub-document 11\n\tProcessing sub-document 12\n\tProcessing sub-document keys\nProcessing document /Users/nathan/Documents/Data/summarization/duc2003/9\n\tProcessing sub-document 0\n\tProcessing sub-document 1\n\tProcessing sub-document 2\n\tProcessing sub-document 3\n\tProcessing sub-document 4\n\tProcessing sub-document 5\n\tProcessing sub-document 6\n",
      "\tProcessing sub-document 7\n\tProcessing sub-document 8\n\tProcessing sub-document 9\n\tProcessing sub-document 10\n\tProcessing sub-document keys\nProcessing document /Users/nathan/Documents/Data/summarization/duc2003/10\n\tProcessing sub-document 0\n\tProcessing sub-document 1\n\tProcessing sub-document 2\n\tProcessing sub-document 3\n\tProcessing sub-document 4\n\tProcessing sub-document 5\n\tProcessing sub-document 6\n\tProcessing sub-document 7\n\tProcessing sub-document 8\n",
      "\tProcessing sub-document 9\n\tProcessing sub-document keys\nProcessing document /Users/nathan/Documents/Data/summarization/duc2003/11\n\tProcessing sub-document 0\n\tProcessing sub-document 1\n\tProcessing sub-document 2\n\tProcessing sub-document 3\n\tProcessing sub-document 4\n\tProcessing sub-document 5\n\tProcessing sub-document 6\n",
      "\tProcessing sub-document 7\n\tProcessing sub-document 8\n\tProcessing sub-document 9\n\tProcessing sub-document 10\n\tProcessing sub-document keys\nProcessing document /Users/nathan/Documents/Data/summarization/duc2003/12\n\tProcessing sub-document 0\n\tProcessing sub-document 1\n\tProcessing sub-document 2\n\tProcessing sub-document 3\n\tProcessing sub-document 4\n\tProcessing sub-document 5\n\tProcessing sub-document 6\n",
      "\tProcessing sub-document 7\n\tProcessing sub-document 8\n\tProcessing sub-document 9\n\tProcessing sub-document 10\n\tProcessing sub-document 11\n\tProcessing sub-document 12\n\tProcessing sub-document keys\nProcessing document /Users/nathan/Documents/Data/summarization/duc2003/13\n\tProcessing sub-document 0\n\tProcessing sub-document 1\n\tProcessing sub-document 2\n\tProcessing sub-document 3\n\tProcessing sub-document 4\n\tProcessing sub-document 5\n",
      "\tProcessing sub-document 6\n\tProcessing sub-document 7\n\tProcessing sub-document 8\n\tProcessing sub-document 9\n\tProcessing sub-document 10\n\tProcessing sub-document 11\n\tProcessing sub-document 12\n\tProcessing sub-document keys\nProcessing document /Users/nathan/Documents/Data/summarization/duc2003/14\n\tProcessing sub-document 0\n\tProcessing sub-document 1\n\tProcessing sub-document 2\n\tProcessing sub-document 3\n\tProcessing sub-document 4\n\tProcessing sub-document 5\n\tProcessing sub-document 6\n\tProcessing sub-document 7\n\tProcessing sub-document 8\n\tProcessing sub-document 9\n\tProcessing sub-document keys\nProcessing document /Users/nathan/Documents/Data/summarization/duc2003/15\n\tProcessing sub-document 0\n\tProcessing sub-document 1\n\tProcessing sub-document 2\n\tProcessing sub-document 3\n",
      "\tProcessing sub-document 4\n\tProcessing sub-document 5\n\tProcessing sub-document 6\n\tProcessing sub-document 7\n\tProcessing sub-document 8\n\tProcessing sub-document keys\nProcessing document /Users/nathan/Documents/Data/summarization/duc2003/16\n\tProcessing sub-document 0\n\tProcessing sub-document 1\n",
      "\tProcessing sub-document 2\n\tProcessing sub-document 3\n\tProcessing sub-document 4\n\tProcessing sub-document 5\n\tProcessing sub-document 6\n\tProcessing sub-document 7\n\tProcessing sub-document 8\n\tProcessing sub-document 9\n\tProcessing sub-document keys\nProcessing document /Users/nathan/Documents/Data/summarization/duc2003/17\n\tProcessing sub-document 0\n",
      "\tProcessing sub-document 1\n\tProcessing sub-document 2\n\tProcessing sub-document 3\n\tProcessing sub-document 4\n\tProcessing sub-document 5\n\tProcessing sub-document 6\n\tProcessing sub-document 7\n\tProcessing sub-document 8\n",
      "\tProcessing sub-document keys\nProcessing document /Users/nathan/Documents/Data/summarization/duc2003/18\n\tProcessing sub-document 0\n\tProcessing sub-document 1\n\tProcessing sub-document 2\n\tProcessing sub-document 3\n\tProcessing sub-document 4\n\tProcessing sub-document 5\n\tProcessing sub-document 6\n\tProcessing sub-document 7\n\tProcessing sub-document keys\nProcessing document /Users/nathan/Documents/Data/summarization/duc2003/19\n\tProcessing sub-document 0\n\tProcessing sub-document 1\n\tProcessing sub-document 2\n\tProcessing sub-document 3\n\tProcessing sub-document 4\n\tProcessing sub-document 5\n\tProcessing sub-document 6\n\tProcessing sub-document 7\n\tProcessing sub-document 8\n\tProcessing sub-document 9\n\tProcessing sub-document keys\nProcessing document /Users/nathan/Documents/Data/summarization/duc2003/20\n\tProcessing sub-document 0\n\tProcessing sub-document 1\n",
      "\tProcessing sub-document 2\n\tProcessing sub-document 3\n\tProcessing sub-document 4\n\tProcessing sub-document 5\n\tProcessing sub-document 6\n\tProcessing sub-document 7\n\tProcessing sub-document 8\n\tProcessing sub-document 9\n\tProcessing sub-document 10\n\tProcessing sub-document keys\nProcessing document /Users/nathan/Documents/Data/summarization/duc2003/21\n\tProcessing sub-document 0\n\tProcessing sub-document 1\n\tProcessing sub-document 2\n\tProcessing sub-document 3\n\tProcessing sub-document 4\n\tProcessing sub-document 5\n\tProcessing sub-document 6\n",
      "\tProcessing sub-document 7\n\tProcessing sub-document 8\n\tProcessing sub-document 9\n\tProcessing sub-document keys\nProcessing document /Users/nathan/Documents/Data/summarization/duc2003/22\n\tProcessing sub-document 0\n\tProcessing sub-document 1\n\tProcessing sub-document 2\n\tProcessing sub-document 3\n\tProcessing sub-document 4\n\tProcessing sub-document 5\n\tProcessing sub-document 6\n\tProcessing sub-document 7\n\tProcessing sub-document 8\n\tProcessing sub-document keys\nProcessing document /Users/nathan/Documents/Data/summarization/duc2003/23\n\tProcessing sub-document 0\n\tProcessing sub-document 1\n\tProcessing sub-document 2\n\tProcessing sub-document 3\n\tProcessing sub-document 4\n",
      "\tProcessing sub-document 5\n\tProcessing sub-document 6\n\tProcessing sub-document 7\n\tProcessing sub-document 8\n\tProcessing sub-document 9\n\tProcessing sub-document keys\nProcessing document /Users/nathan/Documents/Data/summarization/duc2003/24\n\tProcessing sub-document 0\n\tProcessing sub-document 1\n\tProcessing sub-document 2\n\tProcessing sub-document 3\n\tProcessing sub-document 4\n\tProcessing sub-document 5\n",
      "\tProcessing sub-document 6\n\tProcessing sub-document 7\n\tProcessing sub-document 8\n\tProcessing sub-document 9\n\tProcessing sub-document keys\nProcessing document /Users/nathan/Documents/Data/summarization/duc2003/25\n\tProcessing sub-document 0\n\tProcessing sub-document 1\n\tProcessing sub-document 2\n\tProcessing sub-document 3\n",
      "\tProcessing sub-document 4\n\tProcessing sub-document 5\n\tProcessing sub-document 6\n\tProcessing sub-document 7\n\tProcessing sub-document 8\n\tProcessing sub-document 9\n\tProcessing sub-document keys\nProcessing document /Users/nathan/Documents/Data/summarization/duc2003/26\n\tProcessing sub-document 0\n\tProcessing sub-document 1\n\tProcessing sub-document 2\n",
      "\tProcessing sub-document 3\n\tProcessing sub-document 4\n\tProcessing sub-document 5\n\tProcessing sub-document 6\n\tProcessing sub-document 7\n\tProcessing sub-document 8\n\tProcessing sub-document 9\n\tProcessing sub-document 10\n\tProcessing sub-document keys\nProcessing document /Users/nathan/Documents/Data/summarization/duc2003/27\n\tProcessing sub-document 0\n\tProcessing sub-document 1\n\tProcessing sub-document 2\n",
      "\tProcessing sub-document 3\n\tProcessing sub-document 4\n\tProcessing sub-document 5\n\tProcessing sub-document 6\n\tProcessing sub-document 7\n\tProcessing sub-document 8\n\tProcessing sub-document 9\n\tProcessing sub-document 10\n\tProcessing sub-document 11\n\tProcessing sub-document 12\n\tProcessing sub-document keys\nProcessing document /Users/nathan/Documents/Data/summarization/duc2003/28\n\tProcessing sub-document 0\n\tProcessing sub-document 1\n\tProcessing sub-document 2\n\tProcessing sub-document 3\n",
      "\tProcessing sub-document 4\n\tProcessing sub-document 5\n\tProcessing sub-document 6\n\tProcessing sub-document 7\n\tProcessing sub-document 8\n\tProcessing sub-document 9\n\tProcessing sub-document 10\n\tProcessing sub-document 11\n\tProcessing sub-document keys\nProcessing document /Users/nathan/Documents/Data/summarization/duc2003/29\n\tProcessing sub-document 0\n\tProcessing sub-document 1\n\tProcessing sub-document 2\n\tProcessing sub-document 3\n\tProcessing sub-document 4\n\tProcessing sub-document 5\n",
      "\tProcessing sub-document 6\n\tProcessing sub-document 7\n\tProcessing sub-document 8\n\tProcessing sub-document 9\n\tProcessing sub-document keys\nProcessing document /Users/nathan/Documents/Data/summarization/duc2003/30\n\tProcessing sub-document 0\n\tProcessing sub-document 1\n\tProcessing sub-document 2\n\tProcessing sub-document 3\n\tProcessing sub-document 4\n\tProcessing sub-document 5\n\tProcessing sub-document 6\n\tProcessing sub-document 7\n",
      "\tProcessing sub-document 8\n\tProcessing sub-document 9\n\tProcessing sub-document keys\nProcessing document /Users/nathan/Documents/Data/summarization/duc2003/31\n\tProcessing sub-document 0\n\tProcessing sub-document 1\n\tProcessing sub-document 2\n\tProcessing sub-document 3\n\tProcessing sub-document 4\n\tProcessing sub-document 5\n\tProcessing sub-document 6\n\tProcessing sub-document 7\n\tProcessing sub-document 8\n",
      "\tProcessing sub-document 9\n\tProcessing sub-document keys\nProcessing document /Users/nathan/Documents/Data/summarization/duc2003/32\n\tProcessing sub-document 0\n\tProcessing sub-document 1\n\tProcessing sub-document 2\n\tProcessing sub-document 3\n\tProcessing sub-document 4\n\tProcessing sub-document 5\n\tProcessing sub-document 6\n\tProcessing sub-document 7\n\tProcessing sub-document 8\n",
      "\tProcessing sub-document 9\n\tProcessing sub-document keys\nProcessing document /Users/nathan/Documents/Data/summarization/duc2003/33\n\tProcessing sub-document 0\n\tProcessing sub-document 1\n\tProcessing sub-document 2\n\tProcessing sub-document 3\n\tProcessing sub-document 4\n\tProcessing sub-document 5\n\tProcessing sub-document 6\n\tProcessing sub-document 7\n",
      "\tProcessing sub-document 8\n\tProcessing sub-document 9\n\tProcessing sub-document keys\nProcessing document /Users/nathan/Documents/Data/summarization/duc2003/34\n\tProcessing sub-document 0\n\tProcessing sub-document 1\n\tProcessing sub-document 2\n\tProcessing sub-document 3\n\tProcessing sub-document 4\n\tProcessing sub-document 5\n\tProcessing sub-document 6\n\tProcessing sub-document 7\n\tProcessing sub-document 8\n\tProcessing sub-document 9\n\tProcessing sub-document keys\nProcessing document /Users/nathan/Documents/Data/summarization/duc2003/35\n\tProcessing sub-document 0\n\tProcessing sub-document 1\n",
      "\tProcessing sub-document 2\n\tProcessing sub-document 3\n\tProcessing sub-document 4\n\tProcessing sub-document 5\n\tProcessing sub-document 6\n\tProcessing sub-document 7\n\tProcessing sub-document 8\n\tProcessing sub-document 9\n\tProcessing sub-document keys\nProcessing document /Users/nathan/Documents/Data/summarization/duc2003/36\n\tProcessing sub-document 0\n\tProcessing sub-document 1\n\tProcessing sub-document 2\n\tProcessing sub-document 3\n\tProcessing sub-document 4\n\tProcessing sub-document 5\n",
      "\tProcessing sub-document 6\n\tProcessing sub-document 7\n\tProcessing sub-document 8\n\tProcessing sub-document 9\n\tProcessing sub-document keys\nProcessing document /Users/nathan/Documents/Data/summarization/duc2003/37\n\tProcessing sub-document 0\n\tProcessing sub-document 1\n\tProcessing sub-document 2\n\tProcessing sub-document 3\n\tProcessing sub-document 4\n\tProcessing sub-document 5\n\tProcessing sub-document 6\n\tProcessing sub-document 7\n",
      "\tProcessing sub-document 8\n\tProcessing sub-document 9\n\tProcessing sub-document keys\nProcessing document /Users/nathan/Documents/Data/summarization/duc2003/38\n\tProcessing sub-document 0\n\tProcessing sub-document 1\n\tProcessing sub-document 2\n\tProcessing sub-document 3\n\tProcessing sub-document 4\n\tProcessing sub-document 5\n\tProcessing sub-document 6\n\tProcessing sub-document 7\n\tProcessing sub-document 8\n\tProcessing sub-document 9\n\tProcessing sub-document keys\nProcessing document /Users/nathan/Documents/Data/summarization/duc2003/39\n\tProcessing sub-document 0\n",
      "\tProcessing sub-document 1\n\tProcessing sub-document 2\n\tProcessing sub-document 3\n\tProcessing sub-document 4\n\tProcessing sub-document 5\n\tProcessing sub-document 6\n\tProcessing sub-document 7\n\tProcessing sub-document 8\n\tProcessing sub-document 9\n\tProcessing sub-document keys\nProcessing document /Users/nathan/Documents/Data/summarization/duc2003/40\n\tProcessing sub-document 0\n\tProcessing sub-document 1\n\tProcessing sub-document 2\n",
      "\tProcessing sub-document 3\n\tProcessing sub-document 4\n\tProcessing sub-document 5\n\tProcessing sub-document 6\n\tProcessing sub-document 7\n\tProcessing sub-document 8\n\tProcessing sub-document 9\n\tProcessing sub-document keys\nProcessing document /Users/nathan/Documents/Data/summarization/duc2003/41\n\tProcessing sub-document 0\n\tProcessing sub-document 1\n\tProcessing sub-document 2\n\tProcessing sub-document 3\n\tProcessing sub-document 4\n\tProcessing sub-document 5\n\tProcessing sub-document 6\n\tProcessing sub-document 7\n\tProcessing sub-document 8\n\tProcessing sub-document 9\n",
      "\tProcessing sub-document keys\nProcessing document /Users/nathan/Documents/Data/summarization/duc2003/42\n\tProcessing sub-document 0\n\tProcessing sub-document 1\n\tProcessing sub-document 2\n\tProcessing sub-document 3\n\tProcessing sub-document 4\n\tProcessing sub-document 5\n\tProcessing sub-document 6\n\tProcessing sub-document 7\n",
      "\tProcessing sub-document 8\n\tProcessing sub-document 9\n\tProcessing sub-document keys\nProcessing document /Users/nathan/Documents/Data/summarization/duc2003/43\n\tProcessing sub-document 0\n\tProcessing sub-document 1\n\tProcessing sub-document 2\n\tProcessing sub-document 3\n\tProcessing sub-document 4\n",
      "\tProcessing sub-document 5\n\tProcessing sub-document 6\n\tProcessing sub-document 7\n\tProcessing sub-document 8\n\tProcessing sub-document 9\n\tProcessing sub-document keys\nProcessing document /Users/nathan/Documents/Data/summarization/duc2003/44\n\tProcessing sub-document 0\n\tProcessing sub-document 1\n",
      "\tProcessing sub-document 2\n\tProcessing sub-document 3\n\tProcessing sub-document 4\n\tProcessing sub-document 5\n\tProcessing sub-document 6\n\tProcessing sub-document 7\n\tProcessing sub-document 8\n\tProcessing sub-document 9\n\tProcessing sub-document keys\nProcessing document /Users/nathan/Documents/Data/summarization/duc2003/45\n\tProcessing sub-document 0\n\tProcessing sub-document 1\n\tProcessing sub-document 2\n\tProcessing sub-document 3\n\tProcessing sub-document 4\n\tProcessing sub-document 5\n\tProcessing sub-document 6\n\tProcessing sub-document 7\n",
      "\tProcessing sub-document 8\n\tProcessing sub-document keys\nProcessing document /Users/nathan/Documents/Data/summarization/duc2003/46\n\tProcessing sub-document 0\n\tProcessing sub-document 1\n\tProcessing sub-document 2\n\tProcessing sub-document 3\n\tProcessing sub-document 4\n\tProcessing sub-document 5\n\tProcessing sub-document 6\n",
      "\tProcessing sub-document 7\n\tProcessing sub-document 8\n\tProcessing sub-document 9\n\tProcessing sub-document keys\nProcessing document /Users/nathan/Documents/Data/summarization/duc2003/47\n\tProcessing sub-document 0\n\tProcessing sub-document 1\n\tProcessing sub-document 2\n\tProcessing sub-document 3\n\tProcessing sub-document 4\n\tProcessing sub-document 5\n\tProcessing sub-document 6\n\tProcessing sub-document 7\n",
      "\tProcessing sub-document 8\n\tProcessing sub-document 9\n\tProcessing sub-document keys\nProcessing document /Users/nathan/Documents/Data/summarization/duc2003/48\n\tProcessing sub-document 0\n\tProcessing sub-document 1\n\tProcessing sub-document 2\n\tProcessing sub-document 3\n\tProcessing sub-document 4\n\tProcessing sub-document 5\n\tProcessing sub-document 6\n\tProcessing sub-document 7\n\tProcessing sub-document 8\n\tProcessing sub-document 9\n\tProcessing sub-document keys\n",
      "Processing document /Users/nathan/Documents/Data/summarization/duc2003/49\n\tProcessing sub-document 0\n\tProcessing sub-document 1\n\tProcessing sub-document 2\n\tProcessing sub-document 3\n\tProcessing sub-document 4\n\tProcessing sub-document 5\n\tProcessing sub-document 6\n\tProcessing sub-document 7\n\tProcessing sub-document 8\n\tProcessing sub-document 9\n\tProcessing sub-document keys\nProcessing document /Users/nathan/Documents/Data/summarization/duc2003/50\n\tProcessing sub-document 0\n\tProcessing sub-document 1\n\tProcessing sub-document 2\n\tProcessing sub-document 3\n\tProcessing sub-document 4\n\tProcessing sub-document 5\n\tProcessing sub-document 6\n\tProcessing sub-document 7\n\tProcessing sub-document 8\n\tProcessing sub-document 9\n\tProcessing sub-document keys\nProcessing document /Users/nathan/Documents/Data/summarization/duc2003/51\n\tProcessing sub-document 0\n",
      "\tProcessing sub-document 1\n\tProcessing sub-document 2\n\tProcessing sub-document 3\n\tProcessing sub-document 4\n\tProcessing sub-document 5\n\tProcessing sub-document 6\n\tProcessing sub-document 7\n\tProcessing sub-document 8\n\tProcessing sub-document 9\n",
      "\tProcessing sub-document keys\nProcessing document /Users/nathan/Documents/Data/summarization/duc2003/52\n\tProcessing sub-document 0\n\tProcessing sub-document 1\n\tProcessing sub-document 2\n\tProcessing sub-document 3\n\tProcessing sub-document 4\n\tProcessing sub-document 5\n\tProcessing sub-document 6\n\tProcessing sub-document 7\n\tProcessing sub-document 8\n\tProcessing sub-document 9\n\tProcessing sub-document keys\nProcessing document /Users/nathan/Documents/Data/summarization/duc2003/53\n\tProcessing sub-document 0\n\tProcessing sub-document 1\n\tProcessing sub-document 2\n\tProcessing sub-document 3\n",
      "\tProcessing sub-document 4\n\tProcessing sub-document 5\n\tProcessing sub-document 6\n\tProcessing sub-document 7\n\tProcessing sub-document 8\n\tProcessing sub-document 9\n\tProcessing sub-document keys\nProcessing document /Users/nathan/Documents/Data/summarization/duc2003/54\n\tProcessing sub-document 0\n\tProcessing sub-document 1\n\tProcessing sub-document 2\n\tProcessing sub-document 3\n\tProcessing sub-document 4\n\tProcessing sub-document 5\n\tProcessing sub-document 6\n",
      "\tProcessing sub-document 7\n\tProcessing sub-document 8\n\tProcessing sub-document 9\n\tProcessing sub-document keys\nProcessing document /Users/nathan/Documents/Data/summarization/duc2003/55\n\tProcessing sub-document 0\n\tProcessing sub-document 1\n\tProcessing sub-document 2\n\tProcessing sub-document 3\n",
      "\tProcessing sub-document 4\n\tProcessing sub-document 5\n\tProcessing sub-document 6\n\tProcessing sub-document 7\n\tProcessing sub-document 8\n\tProcessing sub-document 9\n\tProcessing sub-document keys\nProcessing document /Users/nathan/Documents/Data/summarization/duc2003/56\n\tProcessing sub-document 0\n\tProcessing sub-document 1\n\tProcessing sub-document 2\n",
      "\tProcessing sub-document 3\n\tProcessing sub-document 4\n\tProcessing sub-document 5\n\tProcessing sub-document 6\n\tProcessing sub-document 7\n\tProcessing sub-document 8\n\tProcessing sub-document 9\n\tProcessing sub-document keys\nProcessing document /Users/nathan/Documents/Data/summarization/duc2003/57\n\tProcessing sub-document 0\n\tProcessing sub-document 1\n\tProcessing sub-document 2\n\tProcessing sub-document 3\n",
      "\tProcessing sub-document 4\n\tProcessing sub-document 5\n\tProcessing sub-document 6\n\tProcessing sub-document 7\n\tProcessing sub-document 8\n\tProcessing sub-document 9\n\tProcessing sub-document keys\nProcessing document /Users/nathan/Documents/Data/summarization/duc2003/58\n\tProcessing sub-document 0\n\tProcessing sub-document 1\n",
      "\tProcessing sub-document 2\n\tProcessing sub-document 3\n\tProcessing sub-document 4\n\tProcessing sub-document 5\n\tProcessing sub-document 6\n\tProcessing sub-document 7\n\tProcessing sub-document 8\n\tProcessing sub-document keys\nProcessing document /Users/nathan/Documents/Data/summarization/duc2003/59\n\tProcessing sub-document 0\n\tProcessing sub-document 1\n\tProcessing sub-document 2\n\tProcessing sub-document 3\n\tProcessing sub-document 4\n\tProcessing sub-document 5\n\tProcessing sub-document 6\n",
      "\tProcessing sub-document 7\n\tProcessing sub-document 8\n\tProcessing sub-document 9\n\tProcessing sub-document keys\n"
     ],
     "output_type": "stream"
    }
   ],
   "source": [
    "from summerizer.utils.preprocessor import Preprocessor\n",
    "pre = Preprocessor(\"/Users/nathan/Documents/Data/summarization/duc2003/duc2003.filelist\")\n",
    "pre.run()"
   ],
   "metadata": {
    "collapsed": false,
    "pycharm": {
     "name": "#%%\n",
     "is_executing": false
    }
   }
  },
  {
   "cell_type": "markdown",
   "source": [
    "### FreqSum - The Baseline Model\n",
    "\n",
    "The first model to train and evaluate is the baseline. "
   ],
   "metadata": {
    "collapsed": false
   }
  },
  {
   "cell_type": "code",
   "execution_count": 1,
   "outputs": [
    {
     "name": "stdout",
     "text": [
      "Training on documents: \n/Users/nathan/Documents/Data/summarization/duc2003/0\nCreated FreqSum model over training docs...\nTesting on documents: \n/Users/nathan/Documents/Data/summarization/duc2003/0\n",
      "{'/Users/nathan/Documents/Data/summarization/duc2003/0': ['Unlike many genetic disorders such as cystic fibrosis and\\nTay-Sachs disease where anyone inheriting a flawed gene develops\\nthe disease, scientists believe schizophrenia is caused by the\\ninteraction of possibly dozens of abnormal genes, said Dr. Kenneth\\nKendler, professor of psychiatry and human genetics at Virginia\\nCommonwealth University and a member of the scientific advisory\\nboard of the National Alliance for Research on Schizophrenia and\\nDepression.', 'The study, said Dr. Robert Bilder, associate director for human\\nresearch at the Center for Advanced Brain Imaging of the Nathan\\nKline Institute for Psychiatric Research in Orangeburg, N.Y., is,\\nhe believes, the first to reveal, in schizophrenia, a structural\\nabnormality in more primitive brain areas, which are also involved\\nin emotional processing.', \"With\\nthe exception of a family history of schizophrenia, she said, ``We\\ndon't even clearly know what the level of risk is; we don't know if\\n5 percent or 40 percent who are identified with suspected risk\\nfactors are going to become ill.''\\n\\n\\n   As a result, critics argue, some of the subjects in prevention\\nstudies will receive treatment unnecessarily, or be treated for\\nwhat turns out to be the wrong problem.\", 'The study may help scientists develop drugs to treat\\nschizophrenia and to help people stop smoking, said Dr. Tony\\nGeorge, the lead author of the study.', \"Dr. Thomas H. McGlashan, the director of the Yale study, said he\\ndecided to begin his prevention trial when he became convinced,\\nafter many years of working with patients suffering from\\nschizophrenia, that ``80 percent if not more of the damage is done\\nbefore the disorder appears.''\"]}\n",
      "Scoring document /Users/nathan/Documents/Data/summarization/duc2003/0\n",
      "[{'rouge-1': {'f': 0.23664121707359717, 'p': 0.17222222222222222, 'r': 0.3780487804878049}, 'rouge-2': {'f': 0.022099443395348896, 'p': 0.01556420233463035, 'r': 0.0380952380952381}, 'rouge-l': {'f': 0.15322632190350305, 'p': 0.1388888888888889, 'r': 0.3048780487804878}}]\n"
     ],
     "output_type": "stream"
    }
   ],
   "source": [
    "from summerizer.freqsum import FreqSum\n",
    "freqSum = FreqSum()\n",
    "\n",
    "freqSum.training_dir = \"/Users/nathan/Documents/Data/summarization/duc2003\"\n",
    "freqSum.training_docs = [\"0\"]\n",
    "freqSum.test_dir = \"/Users/nathan/Documents/Data/summarization/duc2003\"\n",
    "freqSum.test_docs = [\"0\"]\n",
    "freqSum.train()\n",
    "summaries = freqSum.predict()\n",
    "print(summaries)\n",
    "freqSum.score(summaries)\n"
   ],
   "metadata": {
    "collapsed": false,
    "pycharm": {
     "name": "#%%\n",
     "is_executing": false
    }
   }
  }
 ],
 "metadata": {
  "language_info": {
   "codemirror_mode": {
    "name": "ipython",
    "version": 2
   },
   "file_extension": ".py",
   "mimetype": "text/x-python",
   "name": "python",
   "nbconvert_exporter": "python",
   "pygments_lexer": "ipython2",
   "version": "2.7.6"
  },
  "kernelspec": {
   "name": "python3",
   "language": "python",
   "display_name": "Python 3"
  },
  "pycharm": {
   "stem_cell": {
    "cell_type": "raw",
    "source": [],
    "metadata": {
     "collapsed": false
    }
   }
  }
 },
 "nbformat": 4,
 "nbformat_minor": 0
}