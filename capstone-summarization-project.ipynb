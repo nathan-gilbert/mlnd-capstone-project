{
 "cells": [
  {
   "cell_type": "markdown",
   "source": [
    "# Summerizer Web App\n",
    "## A summer summarization project\n",
    "\n",
    "### FreqSum - The Baseline Model\n",
    "\n",
    "The first model to train and evaluate is the baseline. "
   ],
   "metadata": {
    "collapsed": false,
    "pycharm": {
     "name": "#%% md\n"
    }
   }
  },
  {
   "cell_type": "code",
   "execution_count": null,
   "outputs": [],
   "source": [
    "from summerizer.freqsum import FreqSum\n",
    "freqSum = FreqSum()\n",
    "\n",
    "freqSum.training_dir = \"/Users/nathan/Documents/Data/summarization/duc2003\"\n",
    "freqSum.training_docs = [\"0\", \"1\", \"2\", \"3\", \"4\"]\n",
    "freqSum.train()"
   ],
   "metadata": {
    "collapsed": false,
    "pycharm": {
     "name": "#%%\n"
    }
   }
  }
 ],
 "metadata": {
  "language_info": {
   "codemirror_mode": {
    "name": "ipython",
    "version": 2
   },
   "file_extension": ".py",
   "mimetype": "text/x-python",
   "name": "python",
   "nbconvert_exporter": "python",
   "pygments_lexer": "ipython2",
   "version": "2.7.6"
  },
  "kernelspec": {
   "name": "python3",
   "language": "python",
   "display_name": "Python 3"
  },
  "pycharm": {
   "stem_cell": {
    "cell_type": "raw",
    "source": [],
    "metadata": {
     "collapsed": false
    }
   }
  }
 },
 "nbformat": 4,
 "nbformat_minor": 0
}