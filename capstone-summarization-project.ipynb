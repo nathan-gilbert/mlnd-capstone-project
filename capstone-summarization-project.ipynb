{
 "cells": [
  {
   "cell_type": "markdown",
   "source": [
    "# Summerizer Web App\n",
    "## A summer summarization project\n",
    "\n",
    "### Preliminary\n",
    "\n",
    "All the libraries needed to run the following cells."
   ],
   "metadata": {
    "collapsed": false,
    "pycharm": {
     "name": "#%% md\n"
    }
   }
  },
  {
   "cell_type": "code",
   "execution_count": 1,
   "outputs": [],
   "source": [
    "from summerizer.utils.preprocessor import Preprocessor\n",
    "from summerizer.freqsum import FreqSum"
   ],
   "metadata": {
    "collapsed": false,
    "pycharm": {
     "name": "#%%\n",
     "is_executing": false
    }
   }
  },
  {
   "cell_type": "markdown",
   "source": [
    "Run the preprocessor over DUC 2003 documents."
   ],
   "metadata": {
    "collapsed": false
   }
  },
  {
   "cell_type": "code",
   "execution_count": 2,
   "outputs": [
    {
     "name": "stdout",
     "text": [
      "Processing document /Users/nathan/Documents/Data/summarization/duc2003/0\n\tProcessing sub-document 0\n\tProcessing sub-document 1\n\tProcessing sub-document 2\n\tProcessing sub-document 3\n\tProcessing sub-document 4\n\tProcessing sub-document 5\n\tProcessing sub-document 6\n\tProcessing sub-document 7\n\tProcessing sub-document 8\n\tProcessing sub-document 9\n",
      "\tProcessing sub-document 10\n\tProcessing sub-document 11\n\tProcessing sub-document keys\nProcessing document /Users/nathan/Documents/Data/summarization/duc2003/1\n\tProcessing sub-document 0\n\tProcessing sub-document 1\n\tProcessing sub-document 2\n\tProcessing sub-document 3\n\tProcessing sub-document 4\n\tProcessing sub-document 5\n\tProcessing sub-document 6\n",
      "\tProcessing sub-document 7\n\tProcessing sub-document 8\n\tProcessing sub-document 9\n\tProcessing sub-document 10\n\tProcessing sub-document keys\nProcessing document /Users/nathan/Documents/Data/summarization/duc2003/2\n\tProcessing sub-document 0\n\tProcessing sub-document 1\n\tProcessing sub-document 2\n\tProcessing sub-document 3\n\tProcessing sub-document 4\n\tProcessing sub-document 5\n\tProcessing sub-document 6\n",
      "\tProcessing sub-document 7\n\tProcessing sub-document 8\n\tProcessing sub-document 9\n\tProcessing sub-document keys\nProcessing document /Users/nathan/Documents/Data/summarization/duc2003/3\n\tProcessing sub-document 0\n\tProcessing sub-document 1\n\tProcessing sub-document 2\n\tProcessing sub-document 3\n",
      "\tProcessing sub-document 4\n\tProcessing sub-document 5\n\tProcessing sub-document 6\n\tProcessing sub-document 7\n\tProcessing sub-document 8\n\tProcessing sub-document 9\n\tProcessing sub-document keys\nProcessing document /Users/nathan/Documents/Data/summarization/duc2003/4\n\tProcessing sub-document 0\n\tProcessing sub-document 1\n\tProcessing sub-document 2\n",
      "\tProcessing sub-document 3\n\tProcessing sub-document 4\n\tProcessing sub-document 5\n\tProcessing sub-document 6\n\tProcessing sub-document 7\n\tProcessing sub-document 8\n\tProcessing sub-document 9\n\tProcessing sub-document 10\n\tProcessing sub-document keys\nProcessing document /Users/nathan/Documents/Data/summarization/duc2003/5\n\tProcessing sub-document 0\n",
      "\tProcessing sub-document 1\n\tProcessing sub-document 2\n\tProcessing sub-document 3\n\tProcessing sub-document 4\n\tProcessing sub-document 5\n\tProcessing sub-document 6\n\tProcessing sub-document 7\n\tProcessing sub-document 8\n\tProcessing sub-document 9\n\tProcessing sub-document 10\n",
      "\tProcessing sub-document 11\n\tProcessing sub-document 12\n\tProcessing sub-document 13\n\tProcessing sub-document keys\nProcessing document /Users/nathan/Documents/Data/summarization/duc2003/6\n\tProcessing sub-document 0\n\tProcessing sub-document 1\n\tProcessing sub-document 2\n\tProcessing sub-document 3\n\tProcessing sub-document 4\n\tProcessing sub-document 5\n\tProcessing sub-document 6\n",
      "\tProcessing sub-document 7\n\tProcessing sub-document 8\n\tProcessing sub-document 9\n\tProcessing sub-document 10\n\tProcessing sub-document keys\nProcessing document /Users/nathan/Documents/Data/summarization/duc2003/7\n\tProcessing sub-document 0\n\tProcessing sub-document 1\n\tProcessing sub-document 2\n\tProcessing sub-document 3\n\tProcessing sub-document 4\n",
      "\tProcessing sub-document 5\n\tProcessing sub-document 6\n\tProcessing sub-document 7\n\tProcessing sub-document 8\n\tProcessing sub-document 9\n\tProcessing sub-document 10\n\tProcessing sub-document 11\n",
      "\tProcessing sub-document 12\n\tProcessing sub-document 13\n\tProcessing sub-document keys\nProcessing document /Users/nathan/Documents/Data/summarization/duc2003/8\n\tProcessing sub-document 0\n\tProcessing sub-document 1\n\tProcessing sub-document 2\n\tProcessing sub-document 3\n\tProcessing sub-document 4\n\tProcessing sub-document 5\n\tProcessing sub-document 6\n\tProcessing sub-document 7\n",
      "\tProcessing sub-document 8\n\tProcessing sub-document 9\n",
      "\tProcessing sub-document 10\n\tProcessing sub-document 11\n\tProcessing sub-document 12\n\tProcessing sub-document keys\nProcessing document /Users/nathan/Documents/Data/summarization/duc2003/9\n\tProcessing sub-document 0\n\tProcessing sub-document 1\n\tProcessing sub-document 2\n\tProcessing sub-document 3\n\tProcessing sub-document 4\n\tProcessing sub-document 5\n\tProcessing sub-document 6\n\tProcessing sub-document 7\n\tProcessing sub-document 8\n",
      "\tProcessing sub-document 9\n\tProcessing sub-document 10\n\tProcessing sub-document keys\nProcessing document /Users/nathan/Documents/Data/summarization/duc2003/10\n\tProcessing sub-document 0\n\tProcessing sub-document 1\n\tProcessing sub-document 2\n\tProcessing sub-document 3\n\tProcessing sub-document 4\n\tProcessing sub-document 5\n\tProcessing sub-document 6\n\tProcessing sub-document 7\n",
      "\tProcessing sub-document 8\n\tProcessing sub-document 9\n\tProcessing sub-document keys\nProcessing document /Users/nathan/Documents/Data/summarization/duc2003/11\n\tProcessing sub-document 0\n\tProcessing sub-document 1\n\tProcessing sub-document 2\n\tProcessing sub-document 3\n\tProcessing sub-document 4\n\tProcessing sub-document 5\n\tProcessing sub-document 6",
      "\n\tProcessing sub-document 7\n\tProcessing sub-document 8\n\tProcessing sub-document 9\n\tProcessing sub-document 10\n\tProcessing sub-document keys\n",
      "Processing document /Users/nathan/Documents/Data/summarization/duc2003/12\n\tProcessing sub-document 0\n\tProcessing sub-document 1\n\tProcessing sub-document 2\n\tProcessing sub-document 3\n\tProcessing sub-document 4\n\tProcessing sub-document 5\n\tProcessing sub-document 6\n\tProcessing sub-document 7\n",
      "\tProcessing sub-document 8\n\tProcessing sub-document 9\n\tProcessing sub-document 10\n\tProcessing sub-document 11\n\tProcessing sub-document 12\n\tProcessing sub-document keys\nProcessing document /Users/nathan/Documents/Data/summarization/duc2003/13\n\tProcessing sub-document 0\n\tProcessing sub-document 1\n\tProcessing sub-document 2\n\tProcessing sub-document 3\n\tProcessing sub-document 4\n",
      "\tProcessing sub-document 5\n\tProcessing sub-document 6\n\tProcessing sub-document 7\n\tProcessing sub-document 8\n\tProcessing sub-document 9\n\tProcessing sub-document 10\n\tProcessing sub-document 11\n\tProcessing sub-document 12\n\tProcessing sub-document keys\nProcessing document /Users/nathan/Documents/Data/summarization/duc2003/14\n\tProcessing sub-document 0\n\tProcessing sub-document 1\n\tProcessing sub-document 2\n\tProcessing sub-document 3\n\tProcessing sub-document 4\n\tProcessing sub-document 5\n\tProcessing sub-document 6\n\tProcessing sub-document 7\n",
      "\tProcessing sub-document 8\n\tProcessing sub-document 9\n\tProcessing sub-document keys\nProcessing document /Users/nathan/Documents/Data/summarization/duc2003/15\n\tProcessing sub-document 0\n\tProcessing sub-document 1\n\tProcessing sub-document 2\n\tProcessing sub-document 3\n\tProcessing sub-document 4\n",
      "\tProcessing sub-document 5\n\tProcessing sub-document 6\n\tProcessing sub-document 7\n\tProcessing sub-document 8\n\tProcessing sub-document keys\nProcessing document /Users/nathan/Documents/Data/summarization/duc2003/16\n\tProcessing sub-document 0\n",
      "\tProcessing sub-document 1\n\tProcessing sub-document 2\n\tProcessing sub-document 3\n\tProcessing sub-document 4\n\tProcessing sub-document 5\n\tProcessing sub-document 6\n\tProcessing sub-document 7\n\tProcessing sub-document 8\n",
      "\tProcessing sub-document 9\n\tProcessing sub-document keys\nProcessing document /Users/nathan/Documents/Data/summarization/duc2003/17\n\tProcessing sub-document 0\n\tProcessing sub-document 1\n\tProcessing sub-document 2\n\tProcessing sub-document 3\n\tProcessing sub-document 4\n",
      "\tProcessing sub-document 5\n\tProcessing sub-document 6\n\tProcessing sub-document 7\n\tProcessing sub-document 8\n\tProcessing sub-document keys\nProcessing document /Users/nathan/Documents/Data/summarization/duc2003/18\n\tProcessing sub-document 0\n\tProcessing sub-document 1\n\tProcessing sub-document 2\n\tProcessing sub-document 3\n\tProcessing sub-document 4\n\tProcessing sub-document 5\n",
      "\tProcessing sub-document 6\n\tProcessing sub-document 7\n\tProcessing sub-document keys\nProcessing document /Users/nathan/Documents/Data/summarization/duc2003/19\n\tProcessing sub-document 0\n\tProcessing sub-document 1\n\tProcessing sub-document 2\n\tProcessing sub-document 3\n\tProcessing sub-document 4\n\tProcessing sub-document 5\n\tProcessing sub-document 6\n\tProcessing sub-document 7\n\tProcessing sub-document 8\n\tProcessing sub-document 9\n\tProcessing sub-document keys\nProcessing document /Users/nathan/Documents/Data/summarization/duc2003/20\n\tProcessing sub-document 0\n\tProcessing sub-document 1\n\tProcessing sub-document 2\n\tProcessing sub-document 3\n\tProcessing sub-document 4\n",
      "\tProcessing sub-document 5\n\tProcessing sub-document 6\n\tProcessing sub-document 7\n\tProcessing sub-document 8\n\tProcessing sub-document 9\n\tProcessing sub-document 10\n\tProcessing sub-document keys\nProcessing document /Users/nathan/Documents/Data/summarization/duc2003/21\n\tProcessing sub-document 0\n\tProcessing sub-document 1\n\tProcessing sub-document 2\n\tProcessing sub-document 3\n\tProcessing sub-document 4\n",
      "\tProcessing sub-document 5\n\tProcessing sub-document 6\n\tProcessing sub-document 7\n\tProcessing sub-document 8\n\tProcessing sub-document 9\n\tProcessing sub-document keys\nProcessing document /Users/nathan/Documents/Data/summarization/duc2003/22\n\tProcessing sub-document 0\n\tProcessing sub-document 1\n\tProcessing sub-document 2\n\tProcessing sub-document 3\n",
      "\tProcessing sub-document 4\n\tProcessing sub-document 5\n\tProcessing sub-document 6\n\tProcessing sub-document 7\n\tProcessing sub-document 8\n\tProcessing sub-document keys\nProcessing document /Users/nathan/Documents/Data/summarization/duc2003/23\n\tProcessing sub-document 0\n\tProcessing sub-document 1\n\tProcessing sub-document 2\n\tProcessing sub-document 3\n\tProcessing sub-document 4\n",
      "\tProcessing sub-document 5\n\tProcessing sub-document 6\n\tProcessing sub-document 7\n\tProcessing sub-document 8\n\tProcessing sub-document 9\n\tProcessing sub-document keys\nProcessing document /Users/nathan/Documents/Data/summarization/duc2003/24\n\tProcessing sub-document 0\n\tProcessing sub-document 1\n\tProcessing sub-document 2\n\tProcessing sub-document 3\n\tProcessing sub-document 4\n",
      "\tProcessing sub-document 5\n\tProcessing sub-document 6\n\tProcessing sub-document 7\n\tProcessing sub-document 8\n\tProcessing sub-document 9\n\tProcessing sub-document keys\nProcessing document /Users/nathan/Documents/Data/summarization/duc2003/25\n\tProcessing sub-document 0\n\tProcessing sub-document 1\n\tProcessing sub-document 2\n\tProcessing sub-document 3\n",
      "\tProcessing sub-document 4\n\tProcessing sub-document 5\n\tProcessing sub-document 6\n\tProcessing sub-document 7\n\tProcessing sub-document 8\n\tProcessing sub-document 9\n\tProcessing sub-document keys\nProcessing document /Users/nathan/Documents/Data/summarization/duc2003/26\n\tProcessing sub-document 0\n\tProcessing sub-document 1\n",
      "\tProcessing sub-document 2\n\tProcessing sub-document 3\n\tProcessing sub-document 4\n\tProcessing sub-document 5\n\tProcessing sub-document 6\n\tProcessing sub-document 7\n\tProcessing sub-document 8\n\tProcessing sub-document 9\n\tProcessing sub-document 10\n\tProcessing sub-document keys\nProcessing document /Users/nathan/Documents/Data/summarization/duc2003/27\n\tProcessing sub-document 0\n\tProcessing sub-document 1\n\tProcessing sub-document 2\n",
      "\tProcessing sub-document 3\n\tProcessing sub-document 4\n\tProcessing sub-document 5\n\tProcessing sub-document 6\n\tProcessing sub-document 7\n\tProcessing sub-document 8\n\tProcessing sub-document 9\n\tProcessing sub-document 10\n\tProcessing sub-document 11\n\tProcessing sub-document 12\n\tProcessing sub-document keys\nProcessing document /Users/nathan/Documents/Data/summarization/duc2003/28\n\tProcessing sub-document 0\n\tProcessing sub-document 1\n\tProcessing sub-document 2\n\tProcessing sub-document 3\n\tProcessing sub-document 4\n\tProcessing sub-document 5\n\tProcessing sub-document 6\n\tProcessing sub-document 7\n\tProcessing sub-document 8\n\tProcessing sub-document 9\n",
      "\tProcessing sub-document 10\n\tProcessing sub-document 11\n\tProcessing sub-document keys\nProcessing document /Users/nathan/Documents/Data/summarization/duc2003/29\n\tProcessing sub-document 0\n\tProcessing sub-document 1\n\tProcessing sub-document 2\n\tProcessing sub-document 3\n\tProcessing sub-document 4\n\tProcessing sub-document 5\n\tProcessing sub-document 6\n\tProcessing sub-document 7\n\tProcessing sub-document 8\n",
      "\tProcessing sub-document 9\n\tProcessing sub-document keys\nProcessing document /Users/nathan/Documents/Data/summarization/duc2003/30\n\tProcessing sub-document 0\n\tProcessing sub-document 1\n\tProcessing sub-document 2\n\tProcessing sub-document 3\n\tProcessing sub-document 4\n\tProcessing sub-document 5\n\tProcessing sub-document 6\n\tProcessing sub-document 7\n\tProcessing sub-document 8\n\tProcessing sub-document 9\n\tProcessing sub-document keys\nProcessing document /Users/nathan/Documents/Data/summarization/duc2003/31\n\tProcessing sub-document 0\n",
      "\tProcessing sub-document 1\n\tProcessing sub-document 2\n\tProcessing sub-document 3\n\tProcessing sub-document 4\n\tProcessing sub-document 5\n\tProcessing sub-document 6\n\tProcessing sub-document 7\n\tProcessing sub-document 8\n",
      "\tProcessing sub-document 9\n\tProcessing sub-document keys\nProcessing document /Users/nathan/Documents/Data/summarization/duc2003/32\n\tProcessing sub-document 0\n\tProcessing sub-document 1\n\tProcessing sub-document 2\n\tProcessing sub-document 3\n\tProcessing sub-document 4\n\tProcessing sub-document 5\n\tProcessing sub-document 6\n\tProcessing sub-document 7\n\tProcessing sub-document 8\n\tProcessing sub-document 9\n\tProcessing sub-document keys\n",
      "Processing document /Users/nathan/Documents/Data/summarization/duc2003/33\n\tProcessing sub-document 0\n\tProcessing sub-document 1\n\tProcessing sub-document 2\n\tProcessing sub-document 3\n\tProcessing sub-document 4\n\tProcessing sub-document 5\n\tProcessing sub-document 6\n",
      "\tProcessing sub-document 7\n\tProcessing sub-document 8\n\tProcessing sub-document 9\n\tProcessing sub-document keys\nProcessing document /Users/nathan/Documents/Data/summarization/duc2003/34\n\tProcessing sub-document 0\n\tProcessing sub-document 1\n\tProcessing sub-document 2\n\tProcessing sub-document 3\n\tProcessing sub-document 4\n\tProcessing sub-document 5\n\tProcessing sub-document 6\n\tProcessing sub-document 7\n\tProcessing sub-document 8\n\tProcessing sub-document 9\n",
      "\tProcessing sub-document keys\nProcessing document /Users/nathan/Documents/Data/summarization/duc2003/35\n\tProcessing sub-document 0\n\tProcessing sub-document 1\n\tProcessing sub-document 2\n\tProcessing sub-document 3\n\tProcessing sub-document 4\n\tProcessing sub-document 5\n\tProcessing sub-document 6\n\tProcessing sub-document 7\n\tProcessing sub-document 8\n\tProcessing sub-document 9\n\tProcessing sub-document keys\nProcessing document /Users/nathan/Documents/Data/summarization/duc2003/36\n\tProcessing sub-document 0\n\tProcessing sub-document 1\n",
      "\tProcessing sub-document 2\n\tProcessing sub-document 3\n\tProcessing sub-document 4\n\tProcessing sub-document 5\n\tProcessing sub-document 6\n\tProcessing sub-document 7\n\tProcessing sub-document 8\n",
      "\tProcessing sub-document 9\n\tProcessing sub-document keys\nProcessing document /Users/nathan/Documents/Data/summarization/duc2003/37\n\tProcessing sub-document 0\n\tProcessing sub-document 1\n\tProcessing sub-document 2\n\tProcessing sub-document 3\n\tProcessing sub-document 4\n\tProcessing sub-document 5\n\tProcessing sub-document 6\n\tProcessing sub-document 7\n\tProcessing sub-document 8\n",
      "\tProcessing sub-document 9\n\tProcessing sub-document keys\nProcessing document /Users/nathan/Documents/Data/summarization/duc2003/38\n\tProcessing sub-document 0\n\tProcessing sub-document 1\n\tProcessing sub-document 2\n\tProcessing sub-document 3\n\tProcessing sub-document 4\n\tProcessing sub-document 5\n\tProcessing sub-document 6\n\tProcessing sub-document 7\n\tProcessing sub-document 8\n\tProcessing sub-document 9\n\tProcessing sub-document keys\nProcessing document /Users/nathan/Documents/Data/summarization/duc2003/39\n\tProcessing sub-document 0\n",
      "\tProcessing sub-document 1\n\tProcessing sub-document 2\n\tProcessing sub-document 3\n\tProcessing sub-document 4\n\tProcessing sub-document 5\n\tProcessing sub-document 6\n\tProcessing sub-document 7\n\tProcessing sub-document 8\n\tProcessing sub-document 9\n",
      "\tProcessing sub-document keys\nProcessing document /Users/nathan/Documents/Data/summarization/duc2003/40\n\tProcessing sub-document 0\n\tProcessing sub-document 1\n\tProcessing sub-document 2\n\tProcessing sub-document 3\n\tProcessing sub-document 4\n\tProcessing sub-document 5\n\tProcessing sub-document 6\n\tProcessing sub-document 7\n\tProcessing sub-document 8\n\tProcessing sub-document 9\n\tProcessing sub-document keys\nProcessing document /Users/nathan/Documents/Data/summarization/duc2003/41\n\tProcessing sub-document 0\n\tProcessing sub-document 1\n",
      "\tProcessing sub-document 2\n\tProcessing sub-document 3\n\tProcessing sub-document 4\n\tProcessing sub-document 5\n\tProcessing sub-document 6\n\tProcessing sub-document 7\n\tProcessing sub-document 8\n\tProcessing sub-document 9\n\tProcessing sub-document keys\nProcessing document /Users/nathan/Documents/Data/summarization/duc2003/42\n\tProcessing sub-document 0\n",
      "\tProcessing sub-document 1\n\tProcessing sub-document 2\n\tProcessing sub-document 3\n\tProcessing sub-document 4\n\tProcessing sub-document 5\n\tProcessing sub-document 6\n\tProcessing sub-document 7\n\tProcessing sub-document 8\n\tProcessing sub-document 9\n",
      "\tProcessing sub-document keys\nProcessing document /Users/nathan/Documents/Data/summarization/duc2003/43\n\tProcessing sub-document 0\n\tProcessing sub-document 1\n\tProcessing sub-document 2\n\tProcessing sub-document 3\n",
      "\tProcessing sub-document 4\n\tProcessing sub-document 5\n\tProcessing sub-document 6\n\tProcessing sub-document 7\n\tProcessing sub-document 8\n\tProcessing sub-document 9\n\tProcessing sub-document keys\n",
      "Processing document /Users/nathan/Documents/Data/summarization/duc2003/44\n\tProcessing sub-document 0\n\tProcessing sub-document 1\n\tProcessing sub-document 2\n\tProcessing sub-document 3\n\tProcessing sub-document 4\n\tProcessing sub-document 5\n\tProcessing sub-document 6\n\tProcessing sub-document 7\n\tProcessing sub-document 8\n",
      "\tProcessing sub-document 9\n\tProcessing sub-document keys\nProcessing document /Users/nathan/Documents/Data/summarization/duc2003/45\n\tProcessing sub-document 0\n\tProcessing sub-document 1\n\tProcessing sub-document 2\n\tProcessing sub-document 3\n\tProcessing sub-document 4\n\tProcessing sub-document 5\n\tProcessing sub-document 6\n\tProcessing sub-document 7\n\tProcessing sub-document 8\n",
      "\tProcessing sub-document keys\nProcessing document /Users/nathan/Documents/Data/summarization/duc2003/46\n\tProcessing sub-document 0\n\tProcessing sub-document 1\n\tProcessing sub-document 2\n\tProcessing sub-document 3\n\tProcessing sub-document 4\n\tProcessing sub-document 5\n\tProcessing sub-document 6\n\tProcessing sub-document 7\n\tProcessing sub-document 8\n",
      "\tProcessing sub-document 9\n\tProcessing sub-document keys\nProcessing document /Users/nathan/Documents/Data/summarization/duc2003/47\n\tProcessing sub-document 0\n\tProcessing sub-document 1\n\tProcessing sub-document 2\n\tProcessing sub-document 3\n\tProcessing sub-document 4\n\tProcessing sub-document 5\n\tProcessing sub-document 6\n\tProcessing sub-document 7\n\tProcessing sub-document 8\n",
      "\tProcessing sub-document 9\n\tProcessing sub-document keys\nProcessing document /Users/nathan/Documents/Data/summarization/duc2003/48\n\tProcessing sub-document 0\n\tProcessing sub-document 1\n\tProcessing sub-document 2\n\tProcessing sub-document 3\n\tProcessing sub-document 4\n\tProcessing sub-document 5\n\tProcessing sub-document 6\n\tProcessing sub-document 7\n\tProcessing sub-document 8\n\tProcessing sub-document 9\n\tProcessing sub-document keys\nProcessing document /Users/nathan/Documents/Data/summarization/duc2003/49\n",
      "\tProcessing sub-document 0\n\tProcessing sub-document 1\n\tProcessing sub-document 2\n\tProcessing sub-document 3\n\tProcessing sub-document 4\n\tProcessing sub-document 5\n\tProcessing sub-document 6\n\tProcessing sub-document 7\n\tProcessing sub-document 8\n\tProcessing sub-document 9\n\tProcessing sub-document keys\nProcessing document /Users/nathan/Documents/Data/summarization/duc2003/50\n\tProcessing sub-document 0\n\tProcessing sub-document 1\n\tProcessing sub-document 2\n\tProcessing sub-document 3\n",
      "\tProcessing sub-document 4\n\tProcessing sub-document 5\n\tProcessing sub-document 6\n\tProcessing sub-document 7\n\tProcessing sub-document 8\n\tProcessing sub-document 9\n\tProcessing sub-document keys\nProcessing document /Users/nathan/Documents/Data/summarization/duc2003/51\n\tProcessing sub-document 0\n\tProcessing sub-document 1\n",
      "\tProcessing sub-document 2\n\tProcessing sub-document 3\n\tProcessing sub-document 4\n\tProcessing sub-document 5\n\tProcessing sub-document 6\n\tProcessing sub-document 7\n\tProcessing sub-document 8\n\tProcessing sub-document 9\n\tProcessing sub-document keys\nProcessing document /Users/nathan/Documents/Data/summarization/duc2003/52\n\tProcessing sub-document 0\n\tProcessing sub-document 1\n",
      "\tProcessing sub-document 2\n\tProcessing sub-document 3\n\tProcessing sub-document 4\n\tProcessing sub-document 5\n\tProcessing sub-document 6\n\tProcessing sub-document 7\n\tProcessing sub-document 8\n\tProcessing sub-document 9\n\tProcessing sub-document keys\nProcessing document /Users/nathan/Documents/Data/summarization/duc2003/53\n\tProcessing sub-document 0\n\tProcessing sub-document 1\n",
      "\tProcessing sub-document 2\n\tProcessing sub-document 3\n\tProcessing sub-document 4\n\tProcessing sub-document 5\n\tProcessing sub-document 6\n\tProcessing sub-document 7\n\tProcessing sub-document 8\n\tProcessing sub-document 9\n\tProcessing sub-document keys\nProcessing document /Users/nathan/Documents/Data/summarization/duc2003/54\n\tProcessing sub-document 0\n\tProcessing sub-document 1\n\tProcessing sub-document 2\n\tProcessing sub-document 3\n",
      "\tProcessing sub-document 4\n\tProcessing sub-document 5\n\tProcessing sub-document 6\n\tProcessing sub-document 7\n\tProcessing sub-document 8\n\tProcessing sub-document 9\n\tProcessing sub-document keys\nProcessing document /Users/nathan/Documents/Data/summarization/duc2003/55\n\tProcessing sub-document 0\n",
      "\tProcessing sub-document 1\n\tProcessing sub-document 2\n\tProcessing sub-document 3\n\tProcessing sub-document 4\n\tProcessing sub-document 5\n\tProcessing sub-document 6\n\tProcessing sub-document 7\n",
      "\tProcessing sub-document 8\n\tProcessing sub-document 9\n\tProcessing sub-document keys\nProcessing document /Users/nathan/Documents/Data/summarization/duc2003/56\n\tProcessing sub-document 0\n\tProcessing sub-document 1\n\tProcessing sub-document 2\n",
      "\tProcessing sub-document 3\n\tProcessing sub-document 4\n\tProcessing sub-document 5\n\tProcessing sub-document 6\n\tProcessing sub-document 7\n\tProcessing sub-document 8\n\tProcessing sub-document 9\n",
      "\tProcessing sub-document keys\nProcessing document /Users/nathan/Documents/Data/summarization/duc2003/57\n\tProcessing sub-document 0\n\tProcessing sub-document 1\n\tProcessing sub-document 2\n\tProcessing sub-document 3\n\tProcessing sub-document 4\n",
      "\tProcessing sub-document 5\n\tProcessing sub-document 6\n\tProcessing sub-document 7\n\tProcessing sub-document 8\n\tProcessing sub-document 9\n\tProcessing sub-document keys\nProcessing document /Users/nathan/Documents/Data/summarization/duc2003/58\n\tProcessing sub-document 0\n\tProcessing sub-document 1\n\tProcessing sub-document 2\n\tProcessing sub-document 3\n",
      "\tProcessing sub-document 4\n\tProcessing sub-document 5\n\tProcessing sub-document 6\n\tProcessing sub-document 7\n\tProcessing sub-document 8\n\tProcessing sub-document keys\nProcessing document /Users/nathan/Documents/Data/summarization/duc2003/59\n\tProcessing sub-document 0\n\tProcessing sub-document 1\n",
      "\tProcessing sub-document 2\n\tProcessing sub-document 3\n\tProcessing sub-document 4\n",
      "\tProcessing sub-document 5\n\tProcessing sub-document 6\n\tProcessing sub-document 7\n\tProcessing sub-document 8\n\tProcessing sub-document 9\n\tProcessing sub-document keys\n"
     ],
     "output_type": "stream"
    }
   ],
   "source": [
    "pre = Preprocessor(\"/Users/nathan/Documents/Data/summarization/duc2003/duc2003.filelist\")\n",
    "pre.run()"
   ],
   "metadata": {
    "collapsed": false,
    "pycharm": {
     "name": "#%%\n",
     "is_executing": false
    }
   }
  },
  {
   "cell_type": "markdown",
   "source": [
    "### FreqSum - The Baseline Model\n",
    "\n",
    "The first model to train and evaluate is the baseline. "
   ],
   "metadata": {
    "collapsed": false
   }
  },
  {
   "cell_type": "code",
   "execution_count": 3,
   "outputs": [
    {
     "name": "stdout",
     "text": [
      "Training on documents: \n/Users/nathan/Documents/Data/summarization/duc2003/0\nCreated FreqSum model over training docs...\nTesting on documents: \n/Users/nathan/Documents/Data/summarization/duc2003/0\n",
      "{'/Users/nathan/Documents/Data/summarization/duc2003/0': ['Unlike many genetic disorders such as cystic fibrosis and\\nTay-Sachs disease where anyone inheriting a flawed gene develops\\nthe disease, scientists believe schizophrenia is caused by the\\ninteraction of possibly dozens of abnormal genes, said Dr. Kenneth\\nKendler, professor of psychiatry and human genetics at Virginia\\nCommonwealth University and a member of the scientific advisory\\nboard of the National Alliance for Research on Schizophrenia and\\nDepression.', 'The study, said Dr. Robert Bilder, associate director for human\\nresearch at the Center for Advanced Brain Imaging of the Nathan\\nKline Institute for Psychiatric Research in Orangeburg, N.Y., is,\\nhe believes, the first to reveal, in schizophrenia, a structural\\nabnormality in more primitive brain areas, which are also involved\\nin emotional processing.']}\nScoring document /Users/nathan/Documents/Data/summarization/duc2003/0\n{'rouge-1': {'f': 0.2272727222959712, 'p': 0.2127659574468085, 'r': 0.24390243902439024}, 'rouge-2': {'f': 0.02702702204163715, 'p': 0.02564102564102564, 'r': 0.02857142857142857}, 'rouge-l': {'f': 0.18015097485234546, 'p': 0.1702127659574468, 'r': 0.1951219512195122}}\n"
     ],
     "output_type": "stream"
    }
   ],
   "source": [
    "freqSum = FreqSum()\n",
    "\n",
    "freqSum.training_dir = \"/Users/nathan/Documents/Data/summarization/duc2003\"\n",
    "freqSum.training_docs = [\"0\"]\n",
    "freqSum.test_dir = \"/Users/nathan/Documents/Data/summarization/duc2003\"\n",
    "freqSum.test_docs = [\"0\"]\n",
    "freqSum.train()\n",
    "summaries = freqSum.predict()\n",
    "print(summaries)\n",
    "scores = freqSum.score(summaries)\n",
    "print(scores)"
   ],
   "metadata": {
    "collapsed": false,
    "pycharm": {
     "name": "#%%\n",
     "is_executing": false
    }
   }
  },
  {
   "cell_type": "markdown",
   "source": [
    "Yay, we're able to get through the entire pipeline!\n",
    "\n",
    "### Full DUC 2003 & 2004 Tests\n",
    "\n",
    "Train and test over the entire DUC 2003 data set. The FreqSum model is unsupervised \n",
    "and therefore needs to be 'trained' and tested over the same documents."
   ],
   "metadata": {
    "collapsed": false
   }
  },
  {
   "cell_type": "code",
   "execution_count": 4,
   "outputs": [
    {
     "name": "stdout",
     "text": [
      "Training on documents: \n/Users/nathan/Documents/Data/summarization/duc2003/0\n/Users/nathan/Documents/Data/summarization/duc2003/1\n/Users/nathan/Documents/Data/summarization/duc2003/10\n",
      "/Users/nathan/Documents/Data/summarization/duc2003/11\n/Users/nathan/Documents/Data/summarization/duc2003/12\n/Users/nathan/Documents/Data/summarization/duc2003/13\n/Users/nathan/Documents/Data/summarization/duc2003/14\n/Users/nathan/Documents/Data/summarization/duc2003/15\n",
      "/Users/nathan/Documents/Data/summarization/duc2003/16\n/Users/nathan/Documents/Data/summarization/duc2003/17\n/Users/nathan/Documents/Data/summarization/duc2003/18\n/Users/nathan/Documents/Data/summarization/duc2003/19\n",
      "/Users/nathan/Documents/Data/summarization/duc2003/2\n/Users/nathan/Documents/Data/summarization/duc2003/20\n/Users/nathan/Documents/Data/summarization/duc2003/21\n/Users/nathan/Documents/Data/summarization/duc2003/22\n/Users/nathan/Documents/Data/summarization/duc2003/23\n",
      "/Users/nathan/Documents/Data/summarization/duc2003/24\n/Users/nathan/Documents/Data/summarization/duc2003/25\n",
      "/Users/nathan/Documents/Data/summarization/duc2003/26\n/Users/nathan/Documents/Data/summarization/duc2003/27\n/Users/nathan/Documents/Data/summarization/duc2003/28\n/Users/nathan/Documents/Data/summarization/duc2003/29\n",
      "/Users/nathan/Documents/Data/summarization/duc2003/3\n/Users/nathan/Documents/Data/summarization/duc2003/30\n/Users/nathan/Documents/Data/summarization/duc2003/31\n",
      "/Users/nathan/Documents/Data/summarization/duc2003/32\n/Users/nathan/Documents/Data/summarization/duc2003/33\n/Users/nathan/Documents/Data/summarization/duc2003/34\n/Users/nathan/Documents/Data/summarization/duc2003/35\n",
      "/Users/nathan/Documents/Data/summarization/duc2003/36\n/Users/nathan/Documents/Data/summarization/duc2003/37\n/Users/nathan/Documents/Data/summarization/duc2003/38\n/Users/nathan/Documents/Data/summarization/duc2003/39\n/Users/nathan/Documents/Data/summarization/duc2003/4\n",
      "/Users/nathan/Documents/Data/summarization/duc2003/40\n/Users/nathan/Documents/Data/summarization/duc2003/41\n",
      "/Users/nathan/Documents/Data/summarization/duc2003/42\n/Users/nathan/Documents/Data/summarization/duc2003/43\n/Users/nathan/Documents/Data/summarization/duc2003/44\n/Users/nathan/Documents/Data/summarization/duc2003/45\n",
      "/Users/nathan/Documents/Data/summarization/duc2003/46\n/Users/nathan/Documents/Data/summarization/duc2003/47\n/Users/nathan/Documents/Data/summarization/duc2003/48\n/Users/nathan/Documents/Data/summarization/duc2003/49\n/Users/nathan/Documents/Data/summarization/duc2003/5\n",
      "/Users/nathan/Documents/Data/summarization/duc2003/50\n/Users/nathan/Documents/Data/summarization/duc2003/51\n/Users/nathan/Documents/Data/summarization/duc2003/52\n/Users/nathan/Documents/Data/summarization/duc2003/53\n",
      "/Users/nathan/Documents/Data/summarization/duc2003/54\n/Users/nathan/Documents/Data/summarization/duc2003/55\n/Users/nathan/Documents/Data/summarization/duc2003/56\n",
      "/Users/nathan/Documents/Data/summarization/duc2003/57\n/Users/nathan/Documents/Data/summarization/duc2003/58\n/Users/nathan/Documents/Data/summarization/duc2003/59\n/Users/nathan/Documents/Data/summarization/duc2003/6\n/Users/nathan/Documents/Data/summarization/duc2003/7\n",
      "/Users/nathan/Documents/Data/summarization/duc2003/8\n/Users/nathan/Documents/Data/summarization/duc2003/9\n",
      "Created FreqSum model over training docs...\nTesting on documents: \n/Users/nathan/Documents/Data/summarization/duc2003/0\n",
      "/Users/nathan/Documents/Data/summarization/duc2003/1\n",
      "/Users/nathan/Documents/Data/summarization/duc2003/10\n",
      "/Users/nathan/Documents/Data/summarization/duc2003/11\n",
      "/Users/nathan/Documents/Data/summarization/duc2003/12\n",
      "/Users/nathan/Documents/Data/summarization/duc2003/13\n",
      "/Users/nathan/Documents/Data/summarization/duc2003/14\n",
      "/Users/nathan/Documents/Data/summarization/duc2003/15\n",
      "/Users/nathan/Documents/Data/summarization/duc2003/16\n",
      "/Users/nathan/Documents/Data/summarization/duc2003/17\n",
      "/Users/nathan/Documents/Data/summarization/duc2003/18\n",
      "/Users/nathan/Documents/Data/summarization/duc2003/19\n",
      "/Users/nathan/Documents/Data/summarization/duc2003/2\n",
      "/Users/nathan/Documents/Data/summarization/duc2003/20\n",
      "/Users/nathan/Documents/Data/summarization/duc2003/21\n",
      "/Users/nathan/Documents/Data/summarization/duc2003/22\n",
      "/Users/nathan/Documents/Data/summarization/duc2003/23\n",
      "/Users/nathan/Documents/Data/summarization/duc2003/24\n",
      "/Users/nathan/Documents/Data/summarization/duc2003/25\n",
      "/Users/nathan/Documents/Data/summarization/duc2003/26\n",
      "/Users/nathan/Documents/Data/summarization/duc2003/27\n",
      "/Users/nathan/Documents/Data/summarization/duc2003/28\n",
      "/Users/nathan/Documents/Data/summarization/duc2003/29\n",
      "/Users/nathan/Documents/Data/summarization/duc2003/3\n",
      "/Users/nathan/Documents/Data/summarization/duc2003/30\n",
      "/Users/nathan/Documents/Data/summarization/duc2003/31\n",
      "/Users/nathan/Documents/Data/summarization/duc2003/32\n",
      "/Users/nathan/Documents/Data/summarization/duc2003/33\n",
      "/Users/nathan/Documents/Data/summarization/duc2003/34\n",
      "/Users/nathan/Documents/Data/summarization/duc2003/35\n",
      "/Users/nathan/Documents/Data/summarization/duc2003/36\n",
      "/Users/nathan/Documents/Data/summarization/duc2003/37\n",
      "/Users/nathan/Documents/Data/summarization/duc2003/38\n",
      "/Users/nathan/Documents/Data/summarization/duc2003/39\n",
      "/Users/nathan/Documents/Data/summarization/duc2003/4\n",
      "/Users/nathan/Documents/Data/summarization/duc2003/40\n",
      "/Users/nathan/Documents/Data/summarization/duc2003/41\n",
      "/Users/nathan/Documents/Data/summarization/duc2003/42\n",
      "/Users/nathan/Documents/Data/summarization/duc2003/43\n",
      "/Users/nathan/Documents/Data/summarization/duc2003/44\n",
      "/Users/nathan/Documents/Data/summarization/duc2003/45\n",
      "/Users/nathan/Documents/Data/summarization/duc2003/46\n",
      "/Users/nathan/Documents/Data/summarization/duc2003/47\n",
      "/Users/nathan/Documents/Data/summarization/duc2003/48\n",
      "/Users/nathan/Documents/Data/summarization/duc2003/49\n",
      "/Users/nathan/Documents/Data/summarization/duc2003/5\n",
      "/Users/nathan/Documents/Data/summarization/duc2003/50\n",
      "/Users/nathan/Documents/Data/summarization/duc2003/51\n",
      "/Users/nathan/Documents/Data/summarization/duc2003/52\n",
      "/Users/nathan/Documents/Data/summarization/duc2003/53\n",
      "/Users/nathan/Documents/Data/summarization/duc2003/54\n",
      "/Users/nathan/Documents/Data/summarization/duc2003/55\n",
      "/Users/nathan/Documents/Data/summarization/duc2003/56\n",
      "/Users/nathan/Documents/Data/summarization/duc2003/57\n",
      "/Users/nathan/Documents/Data/summarization/duc2003/58\n",
      "/Users/nathan/Documents/Data/summarization/duc2003/59\n",
      "/Users/nathan/Documents/Data/summarization/duc2003/6\n",
      "/Users/nathan/Documents/Data/summarization/duc2003/7\n",
      "/Users/nathan/Documents/Data/summarization/duc2003/8\n",
      "/Users/nathan/Documents/Data/summarization/duc2003/9\n",
      "Scoring document /Users/nathan/Documents/Data/summarization/duc2003/0\nScoring document /Users/nathan/Documents/Data/summarization/duc2003/1\nScoring document /Users/nathan/Documents/Data/summarization/duc2003/10\nScoring document /Users/nathan/Documents/Data/summarization/duc2003/11\nScoring document /Users/nathan/Documents/Data/summarization/duc2003/12\nScoring document /Users/nathan/Documents/Data/summarization/duc2003/13\nScoring document /Users/nathan/Documents/Data/summarization/duc2003/14\nScoring document /Users/nathan/Documents/Data/summarization/duc2003/15\nScoring document /Users/nathan/Documents/Data/summarization/duc2003/16\nScoring document /Users/nathan/Documents/Data/summarization/duc2003/17\nScoring document /Users/nathan/Documents/Data/summarization/duc2003/18\nScoring document /Users/nathan/Documents/Data/summarization/duc2003/19\nScoring document /Users/nathan/Documents/Data/summarization/duc2003/2\nScoring document /Users/nathan/Documents/Data/summarization/duc2003/20\nScoring document /Users/nathan/Documents/Data/summarization/duc2003/21\nScoring document /Users/nathan/Documents/Data/summarization/duc2003/22\nScoring document /Users/nathan/Documents/Data/summarization/duc2003/23\nScoring document /Users/nathan/Documents/Data/summarization/duc2003/24\nScoring document /Users/nathan/Documents/Data/summarization/duc2003/25\nScoring document /Users/nathan/Documents/Data/summarization/duc2003/26\nScoring document /Users/nathan/Documents/Data/summarization/duc2003/27\nScoring document /Users/nathan/Documents/Data/summarization/duc2003/28\nScoring document /Users/nathan/Documents/Data/summarization/duc2003/29\nScoring document /Users/nathan/Documents/Data/summarization/duc2003/3\nScoring document /Users/nathan/Documents/Data/summarization/duc2003/30\nScoring document /Users/nathan/Documents/Data/summarization/duc2003/31\nScoring document /Users/nathan/Documents/Data/summarization/duc2003/32\nScoring document /Users/nathan/Documents/Data/summarization/duc2003/33\nScoring document /Users/nathan/Documents/Data/summarization/duc2003/34\nScoring document /Users/nathan/Documents/Data/summarization/duc2003/35\nScoring document /Users/nathan/Documents/Data/summarization/duc2003/36\nScoring document /Users/nathan/Documents/Data/summarization/duc2003/37\nScoring document /Users/nathan/Documents/Data/summarization/duc2003/38\nScoring document /Users/nathan/Documents/Data/summarization/duc2003/39\nScoring document /Users/nathan/Documents/Data/summarization/duc2003/4\nScoring document /Users/nathan/Documents/Data/summarization/duc2003/40\nScoring document /Users/nathan/Documents/Data/summarization/duc2003/41\nScoring document /Users/nathan/Documents/Data/summarization/duc2003/42\nScoring document /Users/nathan/Documents/Data/summarization/duc2003/43\nScoring document /Users/nathan/Documents/Data/summarization/duc2003/44\nScoring document /Users/nathan/Documents/Data/summarization/duc2003/45\nScoring document /Users/nathan/Documents/Data/summarization/duc2003/46\nScoring document /Users/nathan/Documents/Data/summarization/duc2003/47\nScoring document /Users/nathan/Documents/Data/summarization/duc2003/48\nScoring document /Users/nathan/Documents/Data/summarization/duc2003/49\nScoring document /Users/nathan/Documents/Data/summarization/duc2003/5\nScoring document /Users/nathan/Documents/Data/summarization/duc2003/50\nScoring document /Users/nathan/Documents/Data/summarization/duc2003/51\nScoring document /Users/nathan/Documents/Data/summarization/duc2003/52\nScoring document /Users/nathan/Documents/Data/summarization/duc2003/53\nScoring document /Users/nathan/Documents/Data/summarization/duc2003/54\nScoring document /Users/nathan/Documents/Data/summarization/duc2003/55\nScoring document /Users/nathan/Documents/Data/summarization/duc2003/56\nScoring document /Users/nathan/Documents/Data/summarization/duc2003/57\nScoring document /Users/nathan/Documents/Data/summarization/duc2003/58\nScoring document /Users/nathan/Documents/Data/summarization/duc2003/59\nScoring document /Users/nathan/Documents/Data/summarization/duc2003/6\nScoring document /Users/nathan/Documents/Data/summarization/duc2003/7\nScoring document /Users/nathan/Documents/Data/summarization/duc2003/8\nScoring document /Users/nathan/Documents/Data/summarization/duc2003/9\n",
      "{'rouge-1': {'f': 0.2419399320841259, 'p': 0.23116327251867486, 'r': 0.257305329156196}, 'rouge-2': {'f': 0.04759993844389655, 'p': 0.045246824023305446, 'r': 0.051248806097089476}, 'rouge-l': {'f': 0.20720402997373766, 'p': 0.20090841540191864, 'r': 0.22338210728082414}}\n"
     ],
     "output_type": "stream"
    }
   ],
   "source": [
    "freqSum.training_docs = [\"0\", \"1\", \"10\", \"11\", \"12\", \"13\", \"14\", \"15\", \"16\", \n",
    "                         \"17\", \"18\", \"19\", \"2\", \"20\", \"21\", \"22\", \"23\", \"24\", \n",
    "                         \"25\", \"26\", \"27\", \"28\", \"29\", \"3\", \"30\", \"31\", \"32\", \n",
    "                         \"33\", \"34\", \"35\", \"36\", \"37\", \"38\", \"39\", \"4\", \"40\",\n",
    "                         \"41\", \"42\", \"43\", \"44\", \"45\", \"46\", \"47\", \"48\", \"49\", \n",
    "                         \"5\", \"50\", \"51\", \"52\", \"53\", \"54\", \"55\", \"56\", \"57\", \n",
    "                         \"58\", \"59\", \"6\", \"7\", \"8\", \"9\"]\n",
    "freqSum.train()\n",
    "freqSum.test_docs = freqSum.training_docs\n",
    "summaries = freqSum.predict()\n",
    "scores = freqSum.score(summaries)\n",
    "print(scores)"
   ],
   "metadata": {
    "collapsed": false,
    "pycharm": {
     "name": "#%%\n",
     "is_executing": false
    }
   }
  },
  {
   "cell_type": "markdown",
   "source": [
    "DUC 2004 Test Data\n",
    "\n",
    "First, we need to preprocess this data..."
   ],
   "metadata": {
    "collapsed": false
   }
  },
  {
   "cell_type": "code",
   "execution_count": 5,
   "outputs": [
    {
     "name": "stdout",
     "text": [
      "Processing document /Users/nathan/Documents/Data/summarization/duc2004/0\n\tProcessing sub-document 0\n\tProcessing sub-document 1\n\tProcessing sub-document 2\n\tProcessing sub-document 3\n\tProcessing sub-document 4\n\tProcessing sub-document 5\n\tProcessing sub-document 6\n\tProcessing sub-document 7\n\tProcessing sub-document 8\n\tProcessing sub-document 9\n\tProcessing sub-document keys\nProcessing document /Users/nathan/Documents/Data/summarization/duc2004/1\n\tProcessing sub-document 0\n\tProcessing sub-document 1\n\tProcessing sub-document 2\n",
      "\tProcessing sub-document 3\n\tProcessing sub-document 4\n\tProcessing sub-document 5\n\tProcessing sub-document 6\n\tProcessing sub-document 7\n\tProcessing sub-document 8\n\tProcessing sub-document 9\n\tProcessing sub-document keys\nProcessing document /Users/nathan/Documents/Data/summarization/duc2004/2\n\tProcessing sub-document 0\n\tProcessing sub-document 1\n\tProcessing sub-document 2\n\tProcessing sub-document 3\n\tProcessing sub-document 4\n",
      "\tProcessing sub-document 5\n\tProcessing sub-document 6\n\tProcessing sub-document 7\n\tProcessing sub-document 8\n\tProcessing sub-document 9\n\tProcessing sub-document keys\nProcessing document /Users/nathan/Documents/Data/summarization/duc2004/3\n\tProcessing sub-document 0\n\tProcessing sub-document 1\n\tProcessing sub-document 2\n\tProcessing sub-document 3\n\tProcessing sub-document 4\n\tProcessing sub-document 5\n\tProcessing sub-document 6\n",
      "\tProcessing sub-document 7\n\tProcessing sub-document 8\n\tProcessing sub-document 9\n\tProcessing sub-document keys\nProcessing document /Users/nathan/Documents/Data/summarization/duc2004/4\n\tProcessing sub-document 0\n\tProcessing sub-document 1\n\tProcessing sub-document 2\n\tProcessing sub-document 3\n",
      "\tProcessing sub-document 4\n\tProcessing sub-document 5\n\tProcessing sub-document 6\n\tProcessing sub-document 7\n\tProcessing sub-document 8\n\tProcessing sub-document 9\n\tProcessing sub-document keys\nProcessing document /Users/nathan/Documents/Data/summarization/duc2004/5\n\tProcessing sub-document 0\n\tProcessing sub-document 1\n",
      "\tProcessing sub-document 2\n\tProcessing sub-document 3\n\tProcessing sub-document 4\n\tProcessing sub-document 5\n\tProcessing sub-document 6\n\tProcessing sub-document 7\n\tProcessing sub-document 8\n\tProcessing sub-document 9\n\tProcessing sub-document keys\nProcessing document /Users/nathan/Documents/Data/summarization/duc2004/6\n\tProcessing sub-document 0\n",
      "\tProcessing sub-document 1\n\tProcessing sub-document 2\n\tProcessing sub-document 3\n\tProcessing sub-document 4\n\tProcessing sub-document 5\n\tProcessing sub-document 6\n\tProcessing sub-document 7\n\tProcessing sub-document 8\n\tProcessing sub-document 9\n\tProcessing sub-document keys\nProcessing document /Users/nathan/Documents/Data/summarization/duc2004/7\n\tProcessing sub-document 0\n\tProcessing sub-document 1\n\tProcessing sub-document 2\n",
      "\tProcessing sub-document 3\n\tProcessing sub-document 4\n\tProcessing sub-document 5\n\tProcessing sub-document 6\n\tProcessing sub-document 7\n\tProcessing sub-document 8\n\tProcessing sub-document 9\n\tProcessing sub-document keys\nProcessing document /Users/nathan/Documents/Data/summarization/duc2004/8\n\tProcessing sub-document 0\n",
      "\tProcessing sub-document 1\n\tProcessing sub-document 2\n\tProcessing sub-document 3\n\tProcessing sub-document 4\n\tProcessing sub-document 5\n\tProcessing sub-document 6\n\tProcessing sub-document 7\n\tProcessing sub-document 8\n\tProcessing sub-document 9\n\tProcessing sub-document keys\nProcessing document /Users/nathan/Documents/Data/summarization/duc2004/9\n\tProcessing sub-document 0\n\tProcessing sub-document 1\n",
      "\tProcessing sub-document 2\n\tProcessing sub-document 3\n\tProcessing sub-document 4\n\tProcessing sub-document 5\n\tProcessing sub-document 6\n\tProcessing sub-document 7\n\tProcessing sub-document 8\n\tProcessing sub-document 9\n",
      "\tProcessing sub-document keys\nProcessing document /Users/nathan/Documents/Data/summarization/duc2004/10\n\tProcessing sub-document 0\n\tProcessing sub-document 1\n\tProcessing sub-document 2\n\tProcessing sub-document 3\n\tProcessing sub-document 4\n\tProcessing sub-document 5\n\tProcessing sub-document 6\n\tProcessing sub-document 7\n\tProcessing sub-document 8\n\tProcessing sub-document 9\n\tProcessing sub-document keys\nProcessing document /Users/nathan/Documents/Data/summarization/duc2004/11\n\tProcessing sub-document 0\n\tProcessing sub-document 1\n\tProcessing sub-document 2\n",
      "\tProcessing sub-document 3\n\tProcessing sub-document 4\n\tProcessing sub-document 5\n\tProcessing sub-document 6\n\tProcessing sub-document 7\n\tProcessing sub-document 8\n\tProcessing sub-document 9\n\tProcessing sub-document keys\nProcessing document /Users/nathan/Documents/Data/summarization/duc2004/12\n\tProcessing sub-document 0\n\tProcessing sub-document 1\n\tProcessing sub-document 2\n\tProcessing sub-document 3\n\tProcessing sub-document 4\n\tProcessing sub-document 5\n",
      "\tProcessing sub-document 6\n\tProcessing sub-document 7\n\tProcessing sub-document 8\n\tProcessing sub-document 9\n\tProcessing sub-document keys\nProcessing document /Users/nathan/Documents/Data/summarization/duc2004/13\n\tProcessing sub-document 0\n\tProcessing sub-document 1\n\tProcessing sub-document 2\n\tProcessing sub-document 3\n\tProcessing sub-document 4\n",
      "\tProcessing sub-document 5\n\tProcessing sub-document 6\n\tProcessing sub-document 7\n\tProcessing sub-document 8\n\tProcessing sub-document 9\n\tProcessing sub-document keys\nProcessing document /Users/nathan/Documents/Data/summarization/duc2004/14\n\tProcessing sub-document 0\n",
      "\tProcessing sub-document 1\n\tProcessing sub-document 2\n\tProcessing sub-document 3\n\tProcessing sub-document 4\n\tProcessing sub-document 5\n\tProcessing sub-document 6\n\tProcessing sub-document 7\n\tProcessing sub-document 8\n\tProcessing sub-document 9\n\tProcessing sub-document keys\n",
      "Processing document /Users/nathan/Documents/Data/summarization/duc2004/15\n\tProcessing sub-document 0\n\tProcessing sub-document 1\n\tProcessing sub-document 2\n\tProcessing sub-document 3\n\tProcessing sub-document 4\n\tProcessing sub-document 5\n\tProcessing sub-document 6\n\tProcessing sub-document 7\n\tProcessing sub-document 8\n",
      "\tProcessing sub-document 9\n\tProcessing sub-document keys\nProcessing document /Users/nathan/Documents/Data/summarization/duc2004/16\n\tProcessing sub-document 0\n\tProcessing sub-document 1\n\tProcessing sub-document 2\n\tProcessing sub-document 3\n\tProcessing sub-document 4\n\tProcessing sub-document 5\n\tProcessing sub-document 6\n\tProcessing sub-document 7\n\tProcessing sub-document 8\n\tProcessing sub-document 9\n\tProcessing sub-document keys\nProcessing document /Users/nathan/Documents/Data/summarization/duc2004/17\n\tProcessing sub-document 0\n\tProcessing sub-document 1\n\tProcessing sub-document 2\n\tProcessing sub-document 3\n\tProcessing sub-document 4\n\tProcessing sub-document 5\n",
      "\tProcessing sub-document 6\n\tProcessing sub-document 7\n\tProcessing sub-document 8\n\tProcessing sub-document 9\n\tProcessing sub-document keys\nProcessing document /Users/nathan/Documents/Data/summarization/duc2004/18\n\tProcessing sub-document 0\n\tProcessing sub-document 1\n\tProcessing sub-document 2\n\tProcessing sub-document 3\n\tProcessing sub-document 4\n\tProcessing sub-document 5\n\tProcessing sub-document 6\n",
      "\tProcessing sub-document 7\n\tProcessing sub-document 8\n\tProcessing sub-document 9\n\tProcessing sub-document keys\nProcessing document /Users/nathan/Documents/Data/summarization/duc2004/19\n\tProcessing sub-document 0\n\tProcessing sub-document 1\n\tProcessing sub-document 2\n\tProcessing sub-document 3\n\tProcessing sub-document 4\n\tProcessing sub-document 5\n\tProcessing sub-document 6\n\tProcessing sub-document 7\n\tProcessing sub-document 8\n\tProcessing sub-document 9\n",
      "\tProcessing sub-document keys\nProcessing document /Users/nathan/Documents/Data/summarization/duc2004/20\n\tProcessing sub-document 0\n\tProcessing sub-document 1\n\tProcessing sub-document 2\n\tProcessing sub-document 3\n\tProcessing sub-document 4\n\tProcessing sub-document 5\n\tProcessing sub-document 6\n\tProcessing sub-document 7\n\tProcessing sub-document 8\n\tProcessing sub-document 9\n\tProcessing sub-document keys\nProcessing document /Users/nathan/Documents/Data/summarization/duc2004/21\n\tProcessing sub-document 0\n",
      "\tProcessing sub-document 1\n\tProcessing sub-document 2\n\tProcessing sub-document 3\n\tProcessing sub-document 4\n\tProcessing sub-document 5\n\tProcessing sub-document 6\n\tProcessing sub-document 7\n\tProcessing sub-document 8\n\tProcessing sub-document 9\n",
      "\tProcessing sub-document keys\nProcessing document /Users/nathan/Documents/Data/summarization/duc2004/22\n\tProcessing sub-document 0\n\tProcessing sub-document 1\n\tProcessing sub-document 2\n\tProcessing sub-document 3\n\tProcessing sub-document 4\n\tProcessing sub-document 5\n\tProcessing sub-document 6\n\tProcessing sub-document 7\n\tProcessing sub-document 8\n\tProcessing sub-document 9\n",
      "\tProcessing sub-document keys\nProcessing document /Users/nathan/Documents/Data/summarization/duc2004/23\n\tProcessing sub-document 0\n\tProcessing sub-document 1\n\tProcessing sub-document 2\n\tProcessing sub-document 3\n\tProcessing sub-document 4\n\tProcessing sub-document 5\n\tProcessing sub-document 6\n\tProcessing sub-document 7\n\tProcessing sub-document 8\n\tProcessing sub-document 9\n\tProcessing sub-document keys\nProcessing document /Users/nathan/Documents/Data/summarization/duc2004/24\n\tProcessing sub-document 0\n",
      "\tProcessing sub-document 1\n\tProcessing sub-document 2\n\tProcessing sub-document 3\n\tProcessing sub-document 4\n\tProcessing sub-document 5\n\tProcessing sub-document 6\n\tProcessing sub-document 7\n\tProcessing sub-document 8\n\tProcessing sub-document 9\n\tProcessing sub-document keys\nProcessing document /Users/nathan/Documents/Data/summarization/duc2004/25\n\tProcessing sub-document 0\n\tProcessing sub-document 1\n\tProcessing sub-document 2\n\tProcessing sub-document 3\n\tProcessing sub-document 4\n\tProcessing sub-document 5\n",
      "\tProcessing sub-document 6\n\tProcessing sub-document 7\n\tProcessing sub-document 8\n\tProcessing sub-document 9\n\tProcessing sub-document keys\nProcessing document /Users/nathan/Documents/Data/summarization/duc2004/26\n\tProcessing sub-document 0\n\tProcessing sub-document 1\n\tProcessing sub-document 2\n\tProcessing sub-document 3\n\tProcessing sub-document 4\n\tProcessing sub-document 5\n\tProcessing sub-document 6\n\tProcessing sub-document 7\n\tProcessing sub-document 8\n",
      "\tProcessing sub-document 9\n\tProcessing sub-document keys\nProcessing document /Users/nathan/Documents/Data/summarization/duc2004/27\n\tProcessing sub-document 0\n\tProcessing sub-document 1\n\tProcessing sub-document 2\n\tProcessing sub-document 3\n\tProcessing sub-document 4\n\tProcessing sub-document 5\n\tProcessing sub-document 6\n",
      "\tProcessing sub-document 7\n\tProcessing sub-document 8\n\tProcessing sub-document 9\n\tProcessing sub-document keys\nProcessing document /Users/nathan/Documents/Data/summarization/duc2004/28\n\tProcessing sub-document 0\n\tProcessing sub-document 1\n\tProcessing sub-document 2\n\tProcessing sub-document 3\n",
      "\tProcessing sub-document 4\n\tProcessing sub-document 5\n\tProcessing sub-document 6\n\tProcessing sub-document 7\n\tProcessing sub-document 8\n",
      "\tProcessing sub-document 9\n\tProcessing sub-document keys\nProcessing document /Users/nathan/Documents/Data/summarization/duc2004/29\n\tProcessing sub-document 0\n\tProcessing sub-document 1\n\tProcessing sub-document 2\n\tProcessing sub-document 3\n\tProcessing sub-document 4\n\tProcessing sub-document 5\n\tProcessing sub-document 6\n\tProcessing sub-document 7\n\tProcessing sub-document 8\n\tProcessing sub-document 9\n",
      "\tProcessing sub-document keys\nProcessing document /Users/nathan/Documents/Data/summarization/duc2004/30\n\tProcessing sub-document 0\n\tProcessing sub-document 1\n\tProcessing sub-document 2\n\tProcessing sub-document 3\n\tProcessing sub-document 4\n\tProcessing sub-document 5\n\tProcessing sub-document 6\n\tProcessing sub-document 7\n\tProcessing sub-document 8\n\tProcessing sub-document 9\n",
      "\tProcessing sub-document keys\nProcessing document /Users/nathan/Documents/Data/summarization/duc2004/31\n\tProcessing sub-document 0\n\tProcessing sub-document 1\n\tProcessing sub-document 2\n\tProcessing sub-document 3\n\tProcessing sub-document 4\n\tProcessing sub-document 5\n\tProcessing sub-document 6\n\tProcessing sub-document 7\n\tProcessing sub-document 8\n",
      "\tProcessing sub-document 9\n\tProcessing sub-document keys\nProcessing document /Users/nathan/Documents/Data/summarization/duc2004/32\n\tProcessing sub-document 0\n\tProcessing sub-document 1\n\tProcessing sub-document 2\n\tProcessing sub-document 3\n\tProcessing sub-document 4\n\tProcessing sub-document 5\n\tProcessing sub-document 6\n\tProcessing sub-document 7\n",
      "\tProcessing sub-document 8\n\tProcessing sub-document 9\n\tProcessing sub-document keys\nProcessing document /Users/nathan/Documents/Data/summarization/duc2004/33\n\tProcessing sub-document 0\n\tProcessing sub-document 1\n\tProcessing sub-document 2\n\tProcessing sub-document 3\n\tProcessing sub-document 4\n\tProcessing sub-document 5\n\tProcessing sub-document 6\n\tProcessing sub-document 7\n\tProcessing sub-document 8\n",
      "\tProcessing sub-document 9\n\tProcessing sub-document keys\nProcessing document /Users/nathan/Documents/Data/summarization/duc2004/34\n\tProcessing sub-document 0\n\tProcessing sub-document 1\n\tProcessing sub-document 2\n\tProcessing sub-document 3\n\tProcessing sub-document 4\n\tProcessing sub-document 5\n\tProcessing sub-document 6\n\tProcessing sub-document 7\n\tProcessing sub-document 8\n\tProcessing sub-document 9\n",
      "\tProcessing sub-document keys\nProcessing document /Users/nathan/Documents/Data/summarization/duc2004/35\n\tProcessing sub-document 0\n\tProcessing sub-document 1\n\tProcessing sub-document 2\n\tProcessing sub-document 3\n\tProcessing sub-document 4\n\tProcessing sub-document 5\n\tProcessing sub-document 6\n\tProcessing sub-document 7\n\tProcessing sub-document 8\n\tProcessing sub-document 9\n\tProcessing sub-document keys\nProcessing document /Users/nathan/Documents/Data/summarization/duc2004/36\n\tProcessing sub-document 0\n\tProcessing sub-document 1\n\tProcessing sub-document 2\n\tProcessing sub-document 3\n\tProcessing sub-document 4\n",
      "\tProcessing sub-document 5\n\tProcessing sub-document 6\n\tProcessing sub-document 7\n\tProcessing sub-document 8\n\tProcessing sub-document 9\n\tProcessing sub-document keys\nProcessing document /Users/nathan/Documents/Data/summarization/duc2004/37\n\tProcessing sub-document 0\n\tProcessing sub-document 1\n\tProcessing sub-document 2\n\tProcessing sub-document 3\n\tProcessing sub-document 4\n\tProcessing sub-document 5\n\tProcessing sub-document 6\n\tProcessing sub-document 7\n",
      "\tProcessing sub-document 8\n\tProcessing sub-document 9\n\tProcessing sub-document keys\nProcessing document /Users/nathan/Documents/Data/summarization/duc2004/38\n\tProcessing sub-document 0\n\tProcessing sub-document 1\n\tProcessing sub-document 2\n\tProcessing sub-document 3\n\tProcessing sub-document 4\n\tProcessing sub-document 5\n\tProcessing sub-document 6\n\tProcessing sub-document 7\n\tProcessing sub-document 8\n\tProcessing sub-document 9\n",
      "\tProcessing sub-document keys\nProcessing document /Users/nathan/Documents/Data/summarization/duc2004/39\n\tProcessing sub-document 0\n\tProcessing sub-document 1\n\tProcessing sub-document 2\n\tProcessing sub-document 3\n\tProcessing sub-document 4\n\tProcessing sub-document 5\n\tProcessing sub-document 6\n",
      "\tProcessing sub-document 7\n\tProcessing sub-document 8\n\tProcessing sub-document 9\n\tProcessing sub-document keys\nProcessing document /Users/nathan/Documents/Data/summarization/duc2004/40\n\tProcessing sub-document 0\n\tProcessing sub-document 1\n\tProcessing sub-document 2\n\tProcessing sub-document 3\n\tProcessing sub-document 4\n\tProcessing sub-document 5\n\tProcessing sub-document 6\n\tProcessing sub-document 7\n\tProcessing sub-document 8\n",
      "\tProcessing sub-document 9\n\tProcessing sub-document keys\nProcessing document /Users/nathan/Documents/Data/summarization/duc2004/41\n\tProcessing sub-document 0\n\tProcessing sub-document 1\n\tProcessing sub-document 2\n\tProcessing sub-document 3\n\tProcessing sub-document 4\n\tProcessing sub-document 5\n",
      "\tProcessing sub-document 6\n\tProcessing sub-document 7\n\tProcessing sub-document 8\n\tProcessing sub-document 9\n\tProcessing sub-document keys\nProcessing document /Users/nathan/Documents/Data/summarization/duc2004/42\n\tProcessing sub-document 0\n\tProcessing sub-document 1\n",
      "\tProcessing sub-document 2\n\tProcessing sub-document 3\n\tProcessing sub-document 4\n\tProcessing sub-document 5\n\tProcessing sub-document 6\n\tProcessing sub-document 7\n\tProcessing sub-document 8\n\tProcessing sub-document 9\n\tProcessing sub-document keys\nProcessing document /Users/nathan/Documents/Data/summarization/duc2004/43\n\tProcessing sub-document 0\n",
      "\tProcessing sub-document 1\n\tProcessing sub-document 2\n\tProcessing sub-document 3\n\tProcessing sub-document 4\n\tProcessing sub-document 5\n\tProcessing sub-document 6\n\tProcessing sub-document 7\n\tProcessing sub-document 8\n\tProcessing sub-document 9\n\tProcessing sub-document keys\nProcessing document /Users/nathan/Documents/Data/summarization/duc2004/44\n\tProcessing sub-document 0\n",
      "\tProcessing sub-document 1\n\tProcessing sub-document 2\n\tProcessing sub-document 3\n\tProcessing sub-document 4\n\tProcessing sub-document 5\n\tProcessing sub-document 6\n\tProcessing sub-document 7\n\tProcessing sub-document 8\n\tProcessing sub-document 9\n",
      "\tProcessing sub-document keys\nProcessing document /Users/nathan/Documents/Data/summarization/duc2004/45\n\tProcessing sub-document 0\n\tProcessing sub-document 1\n\tProcessing sub-document 2\n\tProcessing sub-document 3\n\tProcessing sub-document 4\n\tProcessing sub-document 5\n\tProcessing sub-document 6\n\tProcessing sub-document 7\n\tProcessing sub-document 8\n\tProcessing sub-document 9\n\tProcessing sub-document keys\nProcessing document /Users/nathan/Documents/Data/summarization/duc2004/46\n\tProcessing sub-document 0\n",
      "\tProcessing sub-document 1\n\tProcessing sub-document 2\n\tProcessing sub-document 3\n\tProcessing sub-document 4\n\tProcessing sub-document 5\n\tProcessing sub-document 6\n\tProcessing sub-document 7\n",
      "\tProcessing sub-document 8\n\tProcessing sub-document 9\n\tProcessing sub-document keys\nProcessing document /Users/nathan/Documents/Data/summarization/duc2004/47\n\tProcessing sub-document 0\n\tProcessing sub-document 1\n\tProcessing sub-document 2\n\tProcessing sub-document 3\n\tProcessing sub-document 4\n\tProcessing sub-document 5\n\tProcessing sub-document 6\n\tProcessing sub-document 7\n\tProcessing sub-document 8\n\tProcessing sub-document 9\n\tProcessing sub-document keys\nProcessing document /Users/nathan/Documents/Data/summarization/duc2004/48\n\tProcessing sub-document 0\n\tProcessing sub-document 1\n\tProcessing sub-document 2\n",
      "\tProcessing sub-document 3\n\tProcessing sub-document 4\n\tProcessing sub-document 5\n\tProcessing sub-document 6\n\tProcessing sub-document 7\n\tProcessing sub-document 8\n\tProcessing sub-document 9\n\tProcessing sub-document keys\nProcessing document /Users/nathan/Documents/Data/summarization/duc2004/49\n\tProcessing sub-document 0\n\tProcessing sub-document 1\n\tProcessing sub-document 2\n\tProcessing sub-document 3\n\tProcessing sub-document 4\n\tProcessing sub-document 5\n\tProcessing sub-document 6\n",
      "\tProcessing sub-document 7\n\tProcessing sub-document 8\n\tProcessing sub-document 9\n\tProcessing sub-document keys\n"
     ],
     "output_type": "stream"
    }
   ],
   "source": [
    "pre = Preprocessor(\"/Users/nathan/Documents/Data/summarization/duc2004/duc2004.filelist\")\n",
    "pre.run()"
   ],
   "metadata": {
    "collapsed": false,
    "pycharm": {
     "name": "#%%\n",
     "is_executing": false
    }
   }
  },
  {
   "cell_type": "markdown",
   "source": [
    "Now we can run the tests"
   ],
   "metadata": {
    "collapsed": false
   }
  },
  {
   "cell_type": "code",
   "execution_count": 6,
   "outputs": [
    {
     "name": "stdout",
     "text": [
      "Training on documents: \n/Users/nathan/Documents/Data/summarization/duc2004/0\n/Users/nathan/Documents/Data/summarization/duc2004/1\n/Users/nathan/Documents/Data/summarization/duc2004/10\n/Users/nathan/Documents/Data/summarization/duc2004/11\n/Users/nathan/Documents/Data/summarization/duc2004/12\n/Users/nathan/Documents/Data/summarization/duc2004/13\n/Users/nathan/Documents/Data/summarization/duc2004/14\n",
      "/Users/nathan/Documents/Data/summarization/duc2004/15\n/Users/nathan/Documents/Data/summarization/duc2004/16\n/Users/nathan/Documents/Data/summarization/duc2004/17\n",
      "/Users/nathan/Documents/Data/summarization/duc2004/18\n/Users/nathan/Documents/Data/summarization/duc2004/19\n/Users/nathan/Documents/Data/summarization/duc2004/2\n/Users/nathan/Documents/Data/summarization/duc2004/20\n",
      "/Users/nathan/Documents/Data/summarization/duc2004/21\n/Users/nathan/Documents/Data/summarization/duc2004/22\n/Users/nathan/Documents/Data/summarization/duc2004/23\n",
      "/Users/nathan/Documents/Data/summarization/duc2004/24\n/Users/nathan/Documents/Data/summarization/duc2004/25\n/Users/nathan/Documents/Data/summarization/duc2004/26\n/Users/nathan/Documents/Data/summarization/duc2004/27\n",
      "/Users/nathan/Documents/Data/summarization/duc2004/28\n/Users/nathan/Documents/Data/summarization/duc2004/29\n/Users/nathan/Documents/Data/summarization/duc2004/3\n",
      "/Users/nathan/Documents/Data/summarization/duc2004/30\n/Users/nathan/Documents/Data/summarization/duc2004/31\n/Users/nathan/Documents/Data/summarization/duc2004/32\n/Users/nathan/Documents/Data/summarization/duc2004/33\n",
      "/Users/nathan/Documents/Data/summarization/duc2004/34\n/Users/nathan/Documents/Data/summarization/duc2004/35\n/Users/nathan/Documents/Data/summarization/duc2004/36\n/Users/nathan/Documents/Data/summarization/duc2004/37\n",
      "/Users/nathan/Documents/Data/summarization/duc2004/38\n",
      "/Users/nathan/Documents/Data/summarization/duc2004/39\n/Users/nathan/Documents/Data/summarization/duc2004/4\n/Users/nathan/Documents/Data/summarization/duc2004/40\n",
      "/Users/nathan/Documents/Data/summarization/duc2004/41\n/Users/nathan/Documents/Data/summarization/duc2004/42\n/Users/nathan/Documents/Data/summarization/duc2004/43\n/Users/nathan/Documents/Data/summarization/duc2004/44\n",
      "/Users/nathan/Documents/Data/summarization/duc2004/45\n/Users/nathan/Documents/Data/summarization/duc2004/46\n/Users/nathan/Documents/Data/summarization/duc2004/47\n",
      "/Users/nathan/Documents/Data/summarization/duc2004/48\n/Users/nathan/Documents/Data/summarization/duc2004/49\n/Users/nathan/Documents/Data/summarization/duc2004/5\n/Users/nathan/Documents/Data/summarization/duc2004/6\n/Users/nathan/Documents/Data/summarization/duc2004/7\n",
      "/Users/nathan/Documents/Data/summarization/duc2004/8\n/Users/nathan/Documents/Data/summarization/duc2004/9\n",
      "Created FreqSum model over training docs...\nTesting on documents: \n/Users/nathan/Documents/Data/summarization/duc2004/0\n",
      "/Users/nathan/Documents/Data/summarization/duc2004/1\n",
      "/Users/nathan/Documents/Data/summarization/duc2004/10\n",
      "/Users/nathan/Documents/Data/summarization/duc2004/11\n",
      "/Users/nathan/Documents/Data/summarization/duc2004/12\n",
      "/Users/nathan/Documents/Data/summarization/duc2004/13\n",
      "/Users/nathan/Documents/Data/summarization/duc2004/14\n",
      "/Users/nathan/Documents/Data/summarization/duc2004/15\n",
      "/Users/nathan/Documents/Data/summarization/duc2004/16\n",
      "/Users/nathan/Documents/Data/summarization/duc2004/17\n",
      "/Users/nathan/Documents/Data/summarization/duc2004/18\n",
      "/Users/nathan/Documents/Data/summarization/duc2004/19\n",
      "/Users/nathan/Documents/Data/summarization/duc2004/2\n",
      "/Users/nathan/Documents/Data/summarization/duc2004/20\n",
      "/Users/nathan/Documents/Data/summarization/duc2004/21\n",
      "/Users/nathan/Documents/Data/summarization/duc2004/22\n",
      "/Users/nathan/Documents/Data/summarization/duc2004/23\n",
      "/Users/nathan/Documents/Data/summarization/duc2004/24\n",
      "/Users/nathan/Documents/Data/summarization/duc2004/25\n",
      "/Users/nathan/Documents/Data/summarization/duc2004/26\n",
      "/Users/nathan/Documents/Data/summarization/duc2004/27\n",
      "/Users/nathan/Documents/Data/summarization/duc2004/28\n",
      "/Users/nathan/Documents/Data/summarization/duc2004/29\n",
      "/Users/nathan/Documents/Data/summarization/duc2004/3\n",
      "/Users/nathan/Documents/Data/summarization/duc2004/30\n",
      "/Users/nathan/Documents/Data/summarization/duc2004/31\n",
      "/Users/nathan/Documents/Data/summarization/duc2004/32\n",
      "/Users/nathan/Documents/Data/summarization/duc2004/33\n",
      "/Users/nathan/Documents/Data/summarization/duc2004/34\n",
      "/Users/nathan/Documents/Data/summarization/duc2004/35\n",
      "/Users/nathan/Documents/Data/summarization/duc2004/36\n",
      "/Users/nathan/Documents/Data/summarization/duc2004/37\n",
      "/Users/nathan/Documents/Data/summarization/duc2004/38\n",
      "/Users/nathan/Documents/Data/summarization/duc2004/39\n",
      "/Users/nathan/Documents/Data/summarization/duc2004/4\n",
      "/Users/nathan/Documents/Data/summarization/duc2004/40\n",
      "/Users/nathan/Documents/Data/summarization/duc2004/41\n",
      "/Users/nathan/Documents/Data/summarization/duc2004/42\n",
      "/Users/nathan/Documents/Data/summarization/duc2004/43\n",
      "/Users/nathan/Documents/Data/summarization/duc2004/44\n",
      "/Users/nathan/Documents/Data/summarization/duc2004/45\n",
      "/Users/nathan/Documents/Data/summarization/duc2004/46\n",
      "/Users/nathan/Documents/Data/summarization/duc2004/47\n",
      "/Users/nathan/Documents/Data/summarization/duc2004/48\n",
      "/Users/nathan/Documents/Data/summarization/duc2004/49\n",
      "/Users/nathan/Documents/Data/summarization/duc2004/5\n",
      "/Users/nathan/Documents/Data/summarization/duc2004/6\n",
      "/Users/nathan/Documents/Data/summarization/duc2004/7\n",
      "/Users/nathan/Documents/Data/summarization/duc2004/8\n",
      "/Users/nathan/Documents/Data/summarization/duc2004/9\n",
      "Scoring document /Users/nathan/Documents/Data/summarization/duc2004/0\nScoring document /Users/nathan/Documents/Data/summarization/duc2004/1\nScoring document /Users/nathan/Documents/Data/summarization/duc2004/10\nScoring document /Users/nathan/Documents/Data/summarization/duc2004/11\nScoring document /Users/nathan/Documents/Data/summarization/duc2004/12\nScoring document /Users/nathan/Documents/Data/summarization/duc2004/13\nScoring document /Users/nathan/Documents/Data/summarization/duc2004/14\nScoring document /Users/nathan/Documents/Data/summarization/duc2004/15\nScoring document /Users/nathan/Documents/Data/summarization/duc2004/16\nScoring document /Users/nathan/Documents/Data/summarization/duc2004/17\nScoring document /Users/nathan/Documents/Data/summarization/duc2004/18\nScoring document /Users/nathan/Documents/Data/summarization/duc2004/19\nScoring document /Users/nathan/Documents/Data/summarization/duc2004/2\nScoring document /Users/nathan/Documents/Data/summarization/duc2004/20\nScoring document /Users/nathan/Documents/Data/summarization/duc2004/21\nScoring document /Users/nathan/Documents/Data/summarization/duc2004/22\nScoring document /Users/nathan/Documents/Data/summarization/duc2004/23\nScoring document /Users/nathan/Documents/Data/summarization/duc2004/24\nScoring document /Users/nathan/Documents/Data/summarization/duc2004/25\nScoring document /Users/nathan/Documents/Data/summarization/duc2004/26\nScoring document /Users/nathan/Documents/Data/summarization/duc2004/27\nScoring document /Users/nathan/Documents/Data/summarization/duc2004/28\nScoring document /Users/nathan/Documents/Data/summarization/duc2004/29\nScoring document /Users/nathan/Documents/Data/summarization/duc2004/3\nScoring document /Users/nathan/Documents/Data/summarization/duc2004/30\nScoring document /Users/nathan/Documents/Data/summarization/duc2004/31\nScoring document /Users/nathan/Documents/Data/summarization/duc2004/32\nScoring document /Users/nathan/Documents/Data/summarization/duc2004/33\nScoring document /Users/nathan/Documents/Data/summarization/duc2004/34\nScoring document /Users/nathan/Documents/Data/summarization/duc2004/35\nScoring document /Users/nathan/Documents/Data/summarization/duc2004/36\nScoring document /Users/nathan/Documents/Data/summarization/duc2004/37\nScoring document /Users/nathan/Documents/Data/summarization/duc2004/38\nScoring document /Users/nathan/Documents/Data/summarization/duc2004/39\nScoring document /Users/nathan/Documents/Data/summarization/duc2004/4\nScoring document /Users/nathan/Documents/Data/summarization/duc2004/40\nScoring document /Users/nathan/Documents/Data/summarization/duc2004/41\nScoring document /Users/nathan/Documents/Data/summarization/duc2004/42\nScoring document /Users/nathan/Documents/Data/summarization/duc2004/43\nScoring document /Users/nathan/Documents/Data/summarization/duc2004/44\nScoring document /Users/nathan/Documents/Data/summarization/duc2004/45\nScoring document /Users/nathan/Documents/Data/summarization/duc2004/46\nScoring document /Users/nathan/Documents/Data/summarization/duc2004/47\nScoring document /Users/nathan/Documents/Data/summarization/duc2004/48\nScoring document /Users/nathan/Documents/Data/summarization/duc2004/49\nScoring document /Users/nathan/Documents/Data/summarization/duc2004/5\nScoring document /Users/nathan/Documents/Data/summarization/duc2004/6\nScoring document /Users/nathan/Documents/Data/summarization/duc2004/7\nScoring document /Users/nathan/Documents/Data/summarization/duc2004/8\nScoring document /Users/nathan/Documents/Data/summarization/duc2004/9\n",
      "{'rouge-1': {'f': 0.25693698640174306, 'p': 0.24956668790862374, 'r': 0.26698668712909}, 'rouge-2': {'f': 0.062255154526637345, 'p': 0.05888403127636041, 'r': 0.06663488968897552}, 'rouge-l': {'f': 0.22196657614109638, 'p': 0.21778845954406306, 'r': 0.23277795449684613}}\n"
     ],
     "output_type": "stream"
    }
   ],
   "source": [
    "freqSum.test_dir = \"/Users/nathan/Documents/Data/summarization/duc2004\"\n",
    "freqSum.test_docs = [ \"0\", \"1\", \"10\", \"11\", \"12\", \"13\", \"14\", \"15\", \"16\", \"17\", \n",
    "                      \"18\", \"19\", \"2\", \"20\", \"21\", \"22\", \"23\", \"24\", \"25\", \"26\",\n",
    "                      \"27\", \"28\", \"29\", \"3\", \"30\", \"31\", \"32\", \"33\", \"34\", \"35\",\n",
    "                      \"36\", \"37\", \"38\", \"39\", \"4\", \"40\", \"41\", \"42\", \"43\", \"44\",\n",
    "                      \"45\", \"46\", \"47\", \"48\", \"49\", \"5\", \"6\", \"7\", \"8\", \"9\"]\n",
    "summaries = freqSum.predict()\n",
    "scores = freqSum.score(summaries)\n",
    "print(scores)"
   ],
   "metadata": {
    "collapsed": false,
    "pycharm": {
     "name": "#%%\n",
     "is_executing": false
    }
   }
  },
  {
   "cell_type": "markdown",
   "source": [
    "\n",
    "### RegSum"
   ],
   "metadata": {
    "collapsed": false
   }
  },
  {
   "cell_type": "code",
   "execution_count": null,
   "outputs": [],
   "source": [
    "from summerizer.regsum import RegSum\n",
    "rs = RegSum()\n",
    "# train on duc2003\n",
    "rs.training_dir = freqSum.training_dir\n",
    "rs.training_docs = freqSum.training_docs\n",
    "rs.train()\n",
    "# test on duc2004\n",
    "rs.test_dir = \"/Users/nathan/Documents/Data/summarization/duc2004\"\n",
    "rs.test_docs =  [ \"0\", \"1\", \"10\", \"11\", \"12\", \"13\", \"14\", \"15\", \"16\", \"17\", \n",
    "                  \"18\", \"19\", \"2\", \"20\", \"21\", \"22\", \"23\", \"24\", \"25\", \"26\",\n",
    "                  \"27\", \"28\", \"29\", \"3\", \"30\", \"31\", \"32\", \"33\", \"34\", \"35\",\n",
    "                  \"36\", \"37\", \"38\", \"39\", \"4\", \"40\", \"41\", \"42\", \"43\", \"44\",\n",
    "                  \"45\", \"46\", \"47\", \"48\", \"49\", \"5\", \"6\", \"7\", \"8\", \"9\"]\n",
    "regsum_scores = rs.predict()\n",
    "regsum_summaries = rs.create_summary(regsum_scores)\n",
    "print(regsum_summaries)\n",
    "scores = rs.score(regsum_summaries)\n",
    "print(scores)"
   ],
   "metadata": {
    "collapsed": false,
    "pycharm": {
     "name": "#%%\n"
    }
   }
  },
  {
   "cell_type": "markdown",
   "source": [
    "## On Demand Summarization"
   ],
   "metadata": {
    "collapsed": false
   }
  }
 ],
 "metadata": {
  "language_info": {
   "codemirror_mode": {
    "name": "ipython",
    "version": 2
   },
   "file_extension": ".py",
   "mimetype": "text/x-python",
   "name": "python",
   "nbconvert_exporter": "python",
   "pygments_lexer": "ipython2",
   "version": "2.7.6"
  },
  "kernelspec": {
   "name": "python3",
   "language": "python",
   "display_name": "Python 3"
  },
  "pycharm": {
   "stem_cell": {
    "cell_type": "raw",
    "source": [],
    "metadata": {
     "collapsed": false
    }
   }
  }
 },
 "nbformat": 4,
 "nbformat_minor": 0
}