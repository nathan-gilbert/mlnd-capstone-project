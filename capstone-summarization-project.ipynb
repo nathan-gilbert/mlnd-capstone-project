{
 "cells": [
  {
   "cell_type": "markdown",
   "source": [
    "# Summerizer Web App\n",
    "## A summer summarization project\n",
    "\n",
    "### Preliminary\n",
    "\n",
    "Run the preprocessor"
   ],
   "metadata": {
    "collapsed": false,
    "pycharm": {
     "name": "#%% md\n"
    }
   }
  },
  {
   "cell_type": "code",
   "execution_count": 1,
   "outputs": [
    {
     "name": "stdout",
     "text": [
      "Processing document /Users/nathan/Documents/Data/summarization/duc2003/0\n\tProcessing sub-document 0\n\tProcessing sub-document 1\n\tProcessing sub-document 2\n\tProcessing sub-document 3\n\tProcessing sub-document 4\n\tProcessing sub-document 5\n\tProcessing sub-document 6\n\tProcessing sub-document 7\n\tProcessing sub-document 8\n\tProcessing sub-document 9\n\tProcessing sub-document 10\n\tProcessing sub-document 11\n\tProcessing sub-document keys\nProcessing document /Users/nathan/Documents/Data/summarization/duc2003/1\n\tProcessing sub-document 0\n\tProcessing sub-document 1\n\tProcessing sub-document 2\n\tProcessing sub-document 3\n\tProcessing sub-document 4\n\tProcessing sub-document 5\n\tProcessing sub-document 6\n",
      "\tProcessing sub-document 7\n\tProcessing sub-document 8\n\tProcessing sub-document 9\n\tProcessing sub-document 10\n\tProcessing sub-document keys\nProcessing document /Users/nathan/Documents/Data/summarization/duc2003/2\n\tProcessing sub-document 0\n\tProcessing sub-document 1\n\tProcessing sub-document 2\n\tProcessing sub-document 3\n\tProcessing sub-document 4\n\tProcessing sub-document 5\n\tProcessing sub-document 6\n",
      "\tProcessing sub-document 7\n\tProcessing sub-document 8\n\tProcessing sub-document 9\n\tProcessing sub-document keys\nProcessing document /Users/nathan/Documents/Data/summarization/duc2003/3\n\tProcessing sub-document 0\n\tProcessing sub-document 1\n\tProcessing sub-document 2\n\tProcessing sub-document 3\n\tProcessing sub-document 4\n\tProcessing sub-document 5\n",
      "\tProcessing sub-document 6\n\tProcessing sub-document 7\n\tProcessing sub-document 8\n\tProcessing sub-document 9\n\tProcessing sub-document keys\nProcessing document /Users/nathan/Documents/Data/summarization/duc2003/4\n\tProcessing sub-document 0\n\tProcessing sub-document 1\n\tProcessing sub-document 2\n\tProcessing sub-document 3\n\tProcessing sub-document 4\n\tProcessing sub-document 5\n",
      "\tProcessing sub-document 6\n\tProcessing sub-document 7\n\tProcessing sub-document 8\n\tProcessing sub-document 9\n\tProcessing sub-document 10\n\tProcessing sub-document keys\nProcessing document /Users/nathan/Documents/Data/summarization/duc2003/5\n\tProcessing sub-document 0\n\tProcessing sub-document 1\n",
      "\tProcessing sub-document 2\n\tProcessing sub-document 3\n\tProcessing sub-document 4\n\tProcessing sub-document 5\n\tProcessing sub-document 6\n\tProcessing sub-document 7\n\tProcessing sub-document 8\n\tProcessing sub-document 9\n\tProcessing sub-document 10\n\tProcessing sub-document 11\n",
      "\tProcessing sub-document 12\n\tProcessing sub-document 13\n\tProcessing sub-document keys\nProcessing document /Users/nathan/Documents/Data/summarization/duc2003/6\n\tProcessing sub-document 0\n\tProcessing sub-document 1\n\tProcessing sub-document 2\n\tProcessing sub-document 3\n\tProcessing sub-document 4\n\tProcessing sub-document 5\n\tProcessing sub-document 6\n\tProcessing sub-document 7\n",
      "\tProcessing sub-document 8\n\tProcessing sub-document 9\n\tProcessing sub-document 10\n\tProcessing sub-document keys\nProcessing document /Users/nathan/Documents/Data/summarization/duc2003/7\n\tProcessing sub-document 0\n\tProcessing sub-document 1\n\tProcessing sub-document 2\n\tProcessing sub-document 3\n\tProcessing sub-document 4\n\tProcessing sub-document 5\n\tProcessing sub-document 6\n",
      "\tProcessing sub-document 7\n\tProcessing sub-document 8\n\tProcessing sub-document 9\n\tProcessing sub-document 10\n\tProcessing sub-document 11\n\tProcessing sub-document 12\n\tProcessing sub-document 13\n\tProcessing sub-document keys\nProcessing document /Users/nathan/Documents/Data/summarization/duc2003/8\n\tProcessing sub-document 0\n",
      "\tProcessing sub-document 1\n\tProcessing sub-document 2\n\tProcessing sub-document 3\n\tProcessing sub-document 4\n\tProcessing sub-document 5\n\tProcessing sub-document 6\n\tProcessing sub-document 7\n\tProcessing sub-document 8\n",
      "\tProcessing sub-document 9\n\tProcessing sub-document 10\n\tProcessing sub-document 11\n\tProcessing sub-document 12\n\tProcessing sub-document keys\nProcessing document /Users/nathan/Documents/Data/summarization/duc2003/9\n\tProcessing sub-document 0\n\tProcessing sub-document 1\n\tProcessing sub-document 2\n\tProcessing sub-document 3\n\tProcessing sub-document 4\n\tProcessing sub-document 5\n\tProcessing sub-document 6\n",
      "\tProcessing sub-document 7\n\tProcessing sub-document 8\n\tProcessing sub-document 9\n\tProcessing sub-document 10\n\tProcessing sub-document keys\nProcessing document /Users/nathan/Documents/Data/summarization/duc2003/10\n\tProcessing sub-document 0\n\tProcessing sub-document 1\n\tProcessing sub-document 2\n\tProcessing sub-document 3\n\tProcessing sub-document 4\n\tProcessing sub-document 5\n\tProcessing sub-document 6\n\tProcessing sub-document 7\n\tProcessing sub-document 8\n",
      "\tProcessing sub-document 9\n\tProcessing sub-document keys\nProcessing document /Users/nathan/Documents/Data/summarization/duc2003/11\n\tProcessing sub-document 0\n\tProcessing sub-document 1\n\tProcessing sub-document 2\n\tProcessing sub-document 3\n\tProcessing sub-document 4\n\tProcessing sub-document 5\n\tProcessing sub-document 6\n",
      "\tProcessing sub-document 7\n\tProcessing sub-document 8\n\tProcessing sub-document 9\n\tProcessing sub-document 10\n\tProcessing sub-document keys\nProcessing document /Users/nathan/Documents/Data/summarization/duc2003/12\n\tProcessing sub-document 0\n\tProcessing sub-document 1\n\tProcessing sub-document 2\n\tProcessing sub-document 3\n\tProcessing sub-document 4\n\tProcessing sub-document 5\n\tProcessing sub-document 6\n",
      "\tProcessing sub-document 7\n\tProcessing sub-document 8\n\tProcessing sub-document 9\n\tProcessing sub-document 10\n\tProcessing sub-document 11\n\tProcessing sub-document 12\n\tProcessing sub-document keys\nProcessing document /Users/nathan/Documents/Data/summarization/duc2003/13\n\tProcessing sub-document 0\n\tProcessing sub-document 1\n\tProcessing sub-document 2\n\tProcessing sub-document 3\n\tProcessing sub-document 4\n\tProcessing sub-document 5\n",
      "\tProcessing sub-document 6\n\tProcessing sub-document 7\n\tProcessing sub-document 8\n\tProcessing sub-document 9\n\tProcessing sub-document 10\n\tProcessing sub-document 11\n\tProcessing sub-document 12\n\tProcessing sub-document keys\nProcessing document /Users/nathan/Documents/Data/summarization/duc2003/14\n\tProcessing sub-document 0\n\tProcessing sub-document 1\n\tProcessing sub-document 2\n\tProcessing sub-document 3\n\tProcessing sub-document 4\n\tProcessing sub-document 5\n\tProcessing sub-document 6\n\tProcessing sub-document 7\n\tProcessing sub-document 8\n\tProcessing sub-document 9\n\tProcessing sub-document keys\nProcessing document /Users/nathan/Documents/Data/summarization/duc2003/15\n\tProcessing sub-document 0\n\tProcessing sub-document 1\n\tProcessing sub-document 2\n\tProcessing sub-document 3\n",
      "\tProcessing sub-document 4\n\tProcessing sub-document 5\n\tProcessing sub-document 6\n\tProcessing sub-document 7\n\tProcessing sub-document 8\n\tProcessing sub-document keys\nProcessing document /Users/nathan/Documents/Data/summarization/duc2003/16\n\tProcessing sub-document 0\n\tProcessing sub-document 1\n",
      "\tProcessing sub-document 2\n\tProcessing sub-document 3\n\tProcessing sub-document 4\n\tProcessing sub-document 5\n\tProcessing sub-document 6\n\tProcessing sub-document 7\n\tProcessing sub-document 8\n\tProcessing sub-document 9\n\tProcessing sub-document keys\nProcessing document /Users/nathan/Documents/Data/summarization/duc2003/17\n\tProcessing sub-document 0\n",
      "\tProcessing sub-document 1\n\tProcessing sub-document 2\n\tProcessing sub-document 3\n\tProcessing sub-document 4\n\tProcessing sub-document 5\n\tProcessing sub-document 6\n\tProcessing sub-document 7\n\tProcessing sub-document 8\n",
      "\tProcessing sub-document keys\nProcessing document /Users/nathan/Documents/Data/summarization/duc2003/18\n\tProcessing sub-document 0\n\tProcessing sub-document 1\n\tProcessing sub-document 2\n\tProcessing sub-document 3\n\tProcessing sub-document 4\n\tProcessing sub-document 5\n\tProcessing sub-document 6\n\tProcessing sub-document 7\n\tProcessing sub-document keys\nProcessing document /Users/nathan/Documents/Data/summarization/duc2003/19\n\tProcessing sub-document 0\n\tProcessing sub-document 1\n\tProcessing sub-document 2\n\tProcessing sub-document 3\n\tProcessing sub-document 4\n\tProcessing sub-document 5\n\tProcessing sub-document 6\n\tProcessing sub-document 7\n\tProcessing sub-document 8\n\tProcessing sub-document 9\n\tProcessing sub-document keys\nProcessing document /Users/nathan/Documents/Data/summarization/duc2003/20\n\tProcessing sub-document 0\n\tProcessing sub-document 1\n",
      "\tProcessing sub-document 2\n\tProcessing sub-document 3\n\tProcessing sub-document 4\n\tProcessing sub-document 5\n\tProcessing sub-document 6\n\tProcessing sub-document 7\n\tProcessing sub-document 8\n\tProcessing sub-document 9\n\tProcessing sub-document 10\n\tProcessing sub-document keys\nProcessing document /Users/nathan/Documents/Data/summarization/duc2003/21\n\tProcessing sub-document 0\n\tProcessing sub-document 1\n\tProcessing sub-document 2\n\tProcessing sub-document 3\n\tProcessing sub-document 4\n\tProcessing sub-document 5\n\tProcessing sub-document 6\n",
      "\tProcessing sub-document 7\n\tProcessing sub-document 8\n\tProcessing sub-document 9\n\tProcessing sub-document keys\nProcessing document /Users/nathan/Documents/Data/summarization/duc2003/22\n\tProcessing sub-document 0\n\tProcessing sub-document 1\n\tProcessing sub-document 2\n\tProcessing sub-document 3\n\tProcessing sub-document 4\n\tProcessing sub-document 5\n\tProcessing sub-document 6\n\tProcessing sub-document 7\n\tProcessing sub-document 8\n\tProcessing sub-document keys\nProcessing document /Users/nathan/Documents/Data/summarization/duc2003/23\n\tProcessing sub-document 0\n\tProcessing sub-document 1\n\tProcessing sub-document 2\n\tProcessing sub-document 3\n\tProcessing sub-document 4\n",
      "\tProcessing sub-document 5\n\tProcessing sub-document 6\n\tProcessing sub-document 7\n\tProcessing sub-document 8\n\tProcessing sub-document 9\n\tProcessing sub-document keys\nProcessing document /Users/nathan/Documents/Data/summarization/duc2003/24\n\tProcessing sub-document 0\n\tProcessing sub-document 1\n\tProcessing sub-document 2\n\tProcessing sub-document 3\n\tProcessing sub-document 4\n\tProcessing sub-document 5\n",
      "\tProcessing sub-document 6\n\tProcessing sub-document 7\n\tProcessing sub-document 8\n\tProcessing sub-document 9\n\tProcessing sub-document keys\nProcessing document /Users/nathan/Documents/Data/summarization/duc2003/25\n\tProcessing sub-document 0\n\tProcessing sub-document 1\n\tProcessing sub-document 2\n\tProcessing sub-document 3\n",
      "\tProcessing sub-document 4\n\tProcessing sub-document 5\n\tProcessing sub-document 6\n\tProcessing sub-document 7\n\tProcessing sub-document 8\n\tProcessing sub-document 9\n\tProcessing sub-document keys\nProcessing document /Users/nathan/Documents/Data/summarization/duc2003/26\n\tProcessing sub-document 0\n\tProcessing sub-document 1\n\tProcessing sub-document 2\n",
      "\tProcessing sub-document 3\n\tProcessing sub-document 4\n\tProcessing sub-document 5\n\tProcessing sub-document 6\n\tProcessing sub-document 7\n\tProcessing sub-document 8\n\tProcessing sub-document 9\n\tProcessing sub-document 10\n\tProcessing sub-document keys\nProcessing document /Users/nathan/Documents/Data/summarization/duc2003/27\n\tProcessing sub-document 0\n\tProcessing sub-document 1\n\tProcessing sub-document 2\n",
      "\tProcessing sub-document 3\n\tProcessing sub-document 4\n\tProcessing sub-document 5\n\tProcessing sub-document 6\n\tProcessing sub-document 7\n\tProcessing sub-document 8\n\tProcessing sub-document 9\n\tProcessing sub-document 10\n\tProcessing sub-document 11\n\tProcessing sub-document 12\n\tProcessing sub-document keys\nProcessing document /Users/nathan/Documents/Data/summarization/duc2003/28\n\tProcessing sub-document 0\n\tProcessing sub-document 1\n\tProcessing sub-document 2\n\tProcessing sub-document 3\n",
      "\tProcessing sub-document 4\n\tProcessing sub-document 5\n\tProcessing sub-document 6\n\tProcessing sub-document 7\n\tProcessing sub-document 8\n\tProcessing sub-document 9\n\tProcessing sub-document 10\n\tProcessing sub-document 11\n\tProcessing sub-document keys\nProcessing document /Users/nathan/Documents/Data/summarization/duc2003/29\n\tProcessing sub-document 0\n\tProcessing sub-document 1\n\tProcessing sub-document 2\n\tProcessing sub-document 3\n\tProcessing sub-document 4\n\tProcessing sub-document 5\n",
      "\tProcessing sub-document 6\n\tProcessing sub-document 7\n\tProcessing sub-document 8\n\tProcessing sub-document 9\n\tProcessing sub-document keys\nProcessing document /Users/nathan/Documents/Data/summarization/duc2003/30\n\tProcessing sub-document 0\n\tProcessing sub-document 1\n\tProcessing sub-document 2\n\tProcessing sub-document 3\n\tProcessing sub-document 4\n\tProcessing sub-document 5\n\tProcessing sub-document 6\n\tProcessing sub-document 7\n",
      "\tProcessing sub-document 8\n\tProcessing sub-document 9\n\tProcessing sub-document keys\nProcessing document /Users/nathan/Documents/Data/summarization/duc2003/31\n\tProcessing sub-document 0\n\tProcessing sub-document 1\n\tProcessing sub-document 2\n\tProcessing sub-document 3\n\tProcessing sub-document 4\n\tProcessing sub-document 5\n\tProcessing sub-document 6\n\tProcessing sub-document 7\n\tProcessing sub-document 8\n",
      "\tProcessing sub-document 9\n\tProcessing sub-document keys\nProcessing document /Users/nathan/Documents/Data/summarization/duc2003/32\n\tProcessing sub-document 0\n\tProcessing sub-document 1\n\tProcessing sub-document 2\n\tProcessing sub-document 3\n\tProcessing sub-document 4\n\tProcessing sub-document 5\n\tProcessing sub-document 6\n\tProcessing sub-document 7\n\tProcessing sub-document 8\n",
      "\tProcessing sub-document 9\n\tProcessing sub-document keys\nProcessing document /Users/nathan/Documents/Data/summarization/duc2003/33\n\tProcessing sub-document 0\n\tProcessing sub-document 1\n\tProcessing sub-document 2\n\tProcessing sub-document 3\n\tProcessing sub-document 4\n\tProcessing sub-document 5\n\tProcessing sub-document 6\n\tProcessing sub-document 7\n",
      "\tProcessing sub-document 8\n\tProcessing sub-document 9\n\tProcessing sub-document keys\nProcessing document /Users/nathan/Documents/Data/summarization/duc2003/34\n\tProcessing sub-document 0\n\tProcessing sub-document 1\n\tProcessing sub-document 2\n\tProcessing sub-document 3\n\tProcessing sub-document 4\n\tProcessing sub-document 5\n\tProcessing sub-document 6\n\tProcessing sub-document 7\n\tProcessing sub-document 8\n\tProcessing sub-document 9\n\tProcessing sub-document keys\nProcessing document /Users/nathan/Documents/Data/summarization/duc2003/35\n\tProcessing sub-document 0\n\tProcessing sub-document 1\n",
      "\tProcessing sub-document 2\n\tProcessing sub-document 3\n\tProcessing sub-document 4\n\tProcessing sub-document 5\n\tProcessing sub-document 6\n\tProcessing sub-document 7\n\tProcessing sub-document 8\n\tProcessing sub-document 9\n\tProcessing sub-document keys\nProcessing document /Users/nathan/Documents/Data/summarization/duc2003/36\n\tProcessing sub-document 0\n\tProcessing sub-document 1\n\tProcessing sub-document 2\n\tProcessing sub-document 3\n\tProcessing sub-document 4\n\tProcessing sub-document 5\n",
      "\tProcessing sub-document 6\n\tProcessing sub-document 7\n\tProcessing sub-document 8\n\tProcessing sub-document 9\n\tProcessing sub-document keys\nProcessing document /Users/nathan/Documents/Data/summarization/duc2003/37\n\tProcessing sub-document 0\n\tProcessing sub-document 1\n\tProcessing sub-document 2\n\tProcessing sub-document 3\n\tProcessing sub-document 4\n\tProcessing sub-document 5\n\tProcessing sub-document 6\n\tProcessing sub-document 7\n",
      "\tProcessing sub-document 8\n\tProcessing sub-document 9\n\tProcessing sub-document keys\nProcessing document /Users/nathan/Documents/Data/summarization/duc2003/38\n\tProcessing sub-document 0\n\tProcessing sub-document 1\n\tProcessing sub-document 2\n\tProcessing sub-document 3\n\tProcessing sub-document 4\n\tProcessing sub-document 5\n\tProcessing sub-document 6\n\tProcessing sub-document 7\n\tProcessing sub-document 8\n\tProcessing sub-document 9\n\tProcessing sub-document keys\nProcessing document /Users/nathan/Documents/Data/summarization/duc2003/39\n\tProcessing sub-document 0\n",
      "\tProcessing sub-document 1\n\tProcessing sub-document 2\n\tProcessing sub-document 3\n\tProcessing sub-document 4\n\tProcessing sub-document 5\n\tProcessing sub-document 6\n\tProcessing sub-document 7\n\tProcessing sub-document 8\n\tProcessing sub-document 9\n\tProcessing sub-document keys\nProcessing document /Users/nathan/Documents/Data/summarization/duc2003/40\n\tProcessing sub-document 0\n\tProcessing sub-document 1\n\tProcessing sub-document 2\n",
      "\tProcessing sub-document 3\n\tProcessing sub-document 4\n\tProcessing sub-document 5\n\tProcessing sub-document 6\n\tProcessing sub-document 7\n\tProcessing sub-document 8\n\tProcessing sub-document 9\n\tProcessing sub-document keys\nProcessing document /Users/nathan/Documents/Data/summarization/duc2003/41\n\tProcessing sub-document 0\n\tProcessing sub-document 1\n\tProcessing sub-document 2\n\tProcessing sub-document 3\n\tProcessing sub-document 4\n\tProcessing sub-document 5\n\tProcessing sub-document 6\n\tProcessing sub-document 7\n\tProcessing sub-document 8\n\tProcessing sub-document 9\n",
      "\tProcessing sub-document keys\nProcessing document /Users/nathan/Documents/Data/summarization/duc2003/42\n\tProcessing sub-document 0\n\tProcessing sub-document 1\n\tProcessing sub-document 2\n\tProcessing sub-document 3\n\tProcessing sub-document 4\n\tProcessing sub-document 5\n\tProcessing sub-document 6\n\tProcessing sub-document 7\n",
      "\tProcessing sub-document 8\n\tProcessing sub-document 9\n\tProcessing sub-document keys\nProcessing document /Users/nathan/Documents/Data/summarization/duc2003/43\n\tProcessing sub-document 0\n\tProcessing sub-document 1\n\tProcessing sub-document 2\n\tProcessing sub-document 3\n\tProcessing sub-document 4\n",
      "\tProcessing sub-document 5\n\tProcessing sub-document 6\n\tProcessing sub-document 7\n\tProcessing sub-document 8\n\tProcessing sub-document 9\n\tProcessing sub-document keys\nProcessing document /Users/nathan/Documents/Data/summarization/duc2003/44\n\tProcessing sub-document 0\n\tProcessing sub-document 1\n",
      "\tProcessing sub-document 2\n\tProcessing sub-document 3\n\tProcessing sub-document 4\n\tProcessing sub-document 5\n\tProcessing sub-document 6\n\tProcessing sub-document 7\n\tProcessing sub-document 8\n\tProcessing sub-document 9\n\tProcessing sub-document keys\nProcessing document /Users/nathan/Documents/Data/summarization/duc2003/45\n\tProcessing sub-document 0\n\tProcessing sub-document 1\n\tProcessing sub-document 2\n\tProcessing sub-document 3\n\tProcessing sub-document 4\n\tProcessing sub-document 5\n\tProcessing sub-document 6\n\tProcessing sub-document 7\n",
      "\tProcessing sub-document 8\n\tProcessing sub-document keys\nProcessing document /Users/nathan/Documents/Data/summarization/duc2003/46\n\tProcessing sub-document 0\n\tProcessing sub-document 1\n\tProcessing sub-document 2\n\tProcessing sub-document 3\n\tProcessing sub-document 4\n\tProcessing sub-document 5\n\tProcessing sub-document 6\n",
      "\tProcessing sub-document 7\n\tProcessing sub-document 8\n\tProcessing sub-document 9\n\tProcessing sub-document keys\nProcessing document /Users/nathan/Documents/Data/summarization/duc2003/47\n\tProcessing sub-document 0\n\tProcessing sub-document 1\n\tProcessing sub-document 2\n\tProcessing sub-document 3\n\tProcessing sub-document 4\n\tProcessing sub-document 5\n\tProcessing sub-document 6\n\tProcessing sub-document 7\n",
      "\tProcessing sub-document 8\n\tProcessing sub-document 9\n\tProcessing sub-document keys\nProcessing document /Users/nathan/Documents/Data/summarization/duc2003/48\n\tProcessing sub-document 0\n\tProcessing sub-document 1\n\tProcessing sub-document 2\n\tProcessing sub-document 3\n\tProcessing sub-document 4\n\tProcessing sub-document 5\n\tProcessing sub-document 6\n\tProcessing sub-document 7\n\tProcessing sub-document 8\n\tProcessing sub-document 9\n\tProcessing sub-document keys\n",
      "Processing document /Users/nathan/Documents/Data/summarization/duc2003/49\n\tProcessing sub-document 0\n\tProcessing sub-document 1\n\tProcessing sub-document 2\n\tProcessing sub-document 3\n\tProcessing sub-document 4\n\tProcessing sub-document 5\n\tProcessing sub-document 6\n\tProcessing sub-document 7\n\tProcessing sub-document 8\n\tProcessing sub-document 9\n\tProcessing sub-document keys\nProcessing document /Users/nathan/Documents/Data/summarization/duc2003/50\n\tProcessing sub-document 0\n\tProcessing sub-document 1\n\tProcessing sub-document 2\n\tProcessing sub-document 3\n\tProcessing sub-document 4\n\tProcessing sub-document 5\n\tProcessing sub-document 6\n\tProcessing sub-document 7\n\tProcessing sub-document 8\n\tProcessing sub-document 9\n\tProcessing sub-document keys\nProcessing document /Users/nathan/Documents/Data/summarization/duc2003/51\n\tProcessing sub-document 0\n",
      "\tProcessing sub-document 1\n\tProcessing sub-document 2\n\tProcessing sub-document 3\n\tProcessing sub-document 4\n\tProcessing sub-document 5\n\tProcessing sub-document 6\n\tProcessing sub-document 7\n\tProcessing sub-document 8\n\tProcessing sub-document 9\n",
      "\tProcessing sub-document keys\nProcessing document /Users/nathan/Documents/Data/summarization/duc2003/52\n\tProcessing sub-document 0\n\tProcessing sub-document 1\n\tProcessing sub-document 2\n\tProcessing sub-document 3\n\tProcessing sub-document 4\n\tProcessing sub-document 5\n\tProcessing sub-document 6\n\tProcessing sub-document 7\n\tProcessing sub-document 8\n\tProcessing sub-document 9\n\tProcessing sub-document keys\nProcessing document /Users/nathan/Documents/Data/summarization/duc2003/53\n\tProcessing sub-document 0\n\tProcessing sub-document 1\n\tProcessing sub-document 2\n\tProcessing sub-document 3\n",
      "\tProcessing sub-document 4\n\tProcessing sub-document 5\n\tProcessing sub-document 6\n\tProcessing sub-document 7\n\tProcessing sub-document 8\n\tProcessing sub-document 9\n\tProcessing sub-document keys\nProcessing document /Users/nathan/Documents/Data/summarization/duc2003/54\n\tProcessing sub-document 0\n\tProcessing sub-document 1\n\tProcessing sub-document 2\n\tProcessing sub-document 3\n\tProcessing sub-document 4\n\tProcessing sub-document 5\n\tProcessing sub-document 6\n",
      "\tProcessing sub-document 7\n\tProcessing sub-document 8\n\tProcessing sub-document 9\n\tProcessing sub-document keys\nProcessing document /Users/nathan/Documents/Data/summarization/duc2003/55\n\tProcessing sub-document 0\n\tProcessing sub-document 1\n\tProcessing sub-document 2\n\tProcessing sub-document 3\n",
      "\tProcessing sub-document 4\n\tProcessing sub-document 5\n\tProcessing sub-document 6\n\tProcessing sub-document 7\n\tProcessing sub-document 8\n\tProcessing sub-document 9\n\tProcessing sub-document keys\nProcessing document /Users/nathan/Documents/Data/summarization/duc2003/56\n\tProcessing sub-document 0\n\tProcessing sub-document 1\n\tProcessing sub-document 2\n",
      "\tProcessing sub-document 3\n\tProcessing sub-document 4\n\tProcessing sub-document 5\n\tProcessing sub-document 6\n\tProcessing sub-document 7\n\tProcessing sub-document 8\n\tProcessing sub-document 9\n\tProcessing sub-document keys\nProcessing document /Users/nathan/Documents/Data/summarization/duc2003/57\n\tProcessing sub-document 0\n\tProcessing sub-document 1\n\tProcessing sub-document 2\n\tProcessing sub-document 3\n",
      "\tProcessing sub-document 4\n\tProcessing sub-document 5\n\tProcessing sub-document 6\n\tProcessing sub-document 7\n\tProcessing sub-document 8\n\tProcessing sub-document 9\n\tProcessing sub-document keys\nProcessing document /Users/nathan/Documents/Data/summarization/duc2003/58\n\tProcessing sub-document 0\n\tProcessing sub-document 1\n",
      "\tProcessing sub-document 2\n\tProcessing sub-document 3\n\tProcessing sub-document 4\n\tProcessing sub-document 5\n\tProcessing sub-document 6\n\tProcessing sub-document 7\n\tProcessing sub-document 8\n\tProcessing sub-document keys\nProcessing document /Users/nathan/Documents/Data/summarization/duc2003/59\n\tProcessing sub-document 0\n\tProcessing sub-document 1\n\tProcessing sub-document 2\n\tProcessing sub-document 3\n\tProcessing sub-document 4\n\tProcessing sub-document 5\n\tProcessing sub-document 6\n",
      "\tProcessing sub-document 7\n\tProcessing sub-document 8\n\tProcessing sub-document 9\n\tProcessing sub-document keys\n"
     ],
     "output_type": "stream"
    }
   ],
   "source": [
    "from summerizer.utils.preprocessor import Preprocessor\n",
    "pre = Preprocessor(\"/Users/nathan/Documents/Data/summarization/duc2003/duc2003.filelist\")\n",
    "pre.run()"
   ],
   "metadata": {
    "collapsed": false,
    "pycharm": {
     "name": "#%%\n",
     "is_executing": false
    }
   }
  },
  {
   "cell_type": "markdown",
   "source": [
    "### FreqSum - The Baseline Model\n",
    "\n",
    "The first model to train and evaluate is the baseline. "
   ],
   "metadata": {
    "collapsed": false
   }
  },
  {
   "cell_type": "code",
   "execution_count": 1,
   "outputs": [
    {
     "name": "stdout",
     "text": [
      "Training on documents: \n/Users/nathan/Documents/Data/summarization/duc2003/0\nCreated FreqSum model over training docs...\nTesting on documents: \n/Users/nathan/Documents/Data/summarization/duc2003/0\n",
      "{'/Users/nathan/Documents/Data/summarization/duc2003/0': ['Unlike many genetic disorders such as cystic fibrosis and\\nTay-Sachs disease where anyone inheriting a flawed gene develops\\nthe disease, scientists believe schizophrenia is caused by the\\ninteraction of possibly dozens of abnormal genes, said Dr. Kenneth\\nKendler, professor of psychiatry and human genetics at Virginia\\nCommonwealth University and a member of the scientific advisory\\nboard of the National Alliance for Research on Schizophrenia and\\nDepression.', 'The study, said Dr. Robert Bilder, associate director for human\\nresearch at the Center for Advanced Brain Imaging of the Nathan\\nKline Institute for Psychiatric Research in Orangeburg, N.Y., is,\\nhe believes, the first to reveal, in schizophrenia, a structural\\nabnormality in more primitive brain areas, which are also involved\\nin emotional processing.']}\n",
      "Scoring document /Users/nathan/Documents/Data/summarization/duc2003/0\n",
      "{'rouge-1': {'f': 0.2272727222959712, 'p': 0.2127659574468085, 'r': 0.24390243902439024}, 'rouge-2': {'f': 0.02702702204163715, 'p': 0.02564102564102564, 'r': 0.02857142857142857}, 'rouge-l': {'f': 0.18015097485234546, 'p': 0.1702127659574468, 'r': 0.1951219512195122}}\n"
     ],
     "output_type": "stream"
    },
    {
     "name": "stderr",
     "text": [
      "/Users/nathan/Projects/udacity-mlnd-capstone-project/venv/lib/python3.7/site-packages/sklearn/feature_extraction/text.py:300: UserWarning: Your stop_words may be inconsistent with your preprocessing. Tokenizing the stop words generated tokens ['abov', 'afterward', 'alon', 'alreadi', 'alway', 'ani', 'anoth', 'anyon', 'anyth', 'anywher', 'becam', 'becaus', 'becom', 'befor', 'besid', 'cri', 'describ', 'dure', 'els', 'elsewher', 'empti', 'everi', 'everyon', 'everyth', 'everywher', 'fifti', 'formerli', 'forti', 'ha', 'henc', 'hereaft', 'herebi', 'hi', 'howev', 'hundr', 'inde', 'latterli', 'mani', 'meanwhil', 'moreov', 'mostli', 'nobodi', 'noon', 'noth', 'nowher', 'onc', 'onli', 'otherwis', 'ourselv', 'perhap', 'pleas', 'seriou', 'sever', 'sinc', 'sincer', 'sixti', 'someon', 'someth', 'sometim', 'somewher', 'themselv', 'thenc', 'thereaft', 'therebi', 'therefor', 'thi', 'thu', 'togeth', 'twelv', 'twenti', 'veri', 'wa', 'whatev', 'whenc', 'whenev', 'wherea', 'whereaft', 'wherebi', 'wherev', 'whi', 'yourselv'] not in stop_words.\n  'stop_words.' % sorted(inconsistent))\n"
     ],
     "output_type": "stream"
    }
   ],
   "source": [
    "from summerizer.freqsum import FreqSum\n",
    "freqSum = FreqSum()\n",
    "\n",
    "freqSum.training_dir = \"/Users/nathan/Documents/Data/summarization/duc2003\"\n",
    "freqSum.training_docs = [\"0\"]\n",
    "freqSum.test_dir = \"/Users/nathan/Documents/Data/summarization/duc2003\"\n",
    "freqSum.test_docs = [\"0\"]\n",
    "freqSum.train()\n",
    "summaries = freqSum.predict()\n",
    "print(summaries)\n",
    "scores = freqSum.score(summaries)\n",
    "print(scores)"
   ],
   "metadata": {
    "collapsed": false,
    "pycharm": {
     "name": "#%%\n",
     "is_executing": false
    }
   }
  },
  {
   "cell_type": "markdown",
   "source": [
    "Yay, we're able to get through the entire pipeline!\n",
    "\n",
    "### Full DUC 2003 Test"
   ],
   "metadata": {
    "collapsed": false
   }
  },
  {
   "cell_type": "code",
   "execution_count": null,
   "outputs": [],
   "source": [],
   "metadata": {
    "collapsed": false,
    "pycharm": {
     "name": "#%%\n"
    }
   }
  },
  {
   "cell_type": "markdown",
   "source": [
    "And here are results over DUC 2004 Data\n",
    "\n"
   ],
   "metadata": {
    "collapsed": false
   }
  },
  {
   "cell_type": "code",
   "execution_count": null,
   "outputs": [],
   "source": [],
   "metadata": {
    "collapsed": false,
    "pycharm": {
     "name": "#%%\n"
    }
   }
  },
  {
   "cell_type": "markdown",
   "source": [
    "\n",
    "## RegSumish"
   ],
   "metadata": {
    "collapsed": false
   }
  }
 ],
 "metadata": {
  "language_info": {
   "codemirror_mode": {
    "name": "ipython",
    "version": 2
   },
   "file_extension": ".py",
   "mimetype": "text/x-python",
   "name": "python",
   "nbconvert_exporter": "python",
   "pygments_lexer": "ipython2",
   "version": "2.7.6"
  },
  "kernelspec": {
   "name": "python3",
   "language": "python",
   "display_name": "Python 3"
  },
  "pycharm": {
   "stem_cell": {
    "cell_type": "raw",
    "source": [],
    "metadata": {
     "collapsed": false
    }
   }
  }
 },
 "nbformat": 4,
 "nbformat_minor": 0
}